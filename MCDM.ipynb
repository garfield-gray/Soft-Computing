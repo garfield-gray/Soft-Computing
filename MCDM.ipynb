{
  "nbformat": 4,
  "nbformat_minor": 0,
  "metadata": {
    "colab": {
      "provenance": [],
      "authorship_tag": "ABX9TyOMK3uiB3hT/67UAoJJRkpT",
      "include_colab_link": true
    },
    "kernelspec": {
      "name": "python3",
      "display_name": "Python 3"
    },
    "language_info": {
      "name": "python"
    }
  },
  "cells": [
    {
      "cell_type": "markdown",
      "metadata": {
        "id": "view-in-github",
        "colab_type": "text"
      },
      "source": [
        "<a href=\"https://colab.research.google.com/github/garfield-gray/Soft-Computing/blob/main/MCDM.ipynb\" target=\"_parent\"><img src=\"https://colab.research.google.com/assets/colab-badge.svg\" alt=\"Open In Colab\"/></a>"
      ]
    },
    {
      "cell_type": "code",
      "source": [
        "import numpy as np"
      ],
      "metadata": {
        "id": "VnUntpRgMjhm"
      },
      "execution_count": 108,
      "outputs": []
    },
    {
      "cell_type": "markdown",
      "source": [
        "#SAW"
      ],
      "metadata": {
        "id": "x5YTexdsA8kc"
      }
    },
    {
      "cell_type": "code",
      "source": [
        "\n",
        "def data_gen():\n",
        "  rawdata = np.random.randint(low=1, high=15, size=np.random.randint(low=1, high=10, size=(1,2))[0])\n",
        "  d = np.array(rawdata, dtype=np.longdouble)\n",
        "  weights = np.random.random(size = (1, d.shape[1]))\n",
        "  w = (weights/np.sum(weights))[0]\n",
        "\n",
        "  criterion_type = (np.random.randint(low=0, high=2, size = (1, d.shape[1])))[0]\n",
        "  c = list(map(lambda x: \"max\" if x == 1 else \"min\", criterion_type))\n",
        "  return d, w, c\n",
        "\n",
        "\n",
        "\n",
        "# normalization\n",
        "def normalize_data(data, criterion_type):\n",
        "  D = data.copy()\n",
        "  # max\n",
        "  dmax = D[:, [np.where(np.array(criterion_type) == 'max')[0]]].copy()\n",
        "  D[:, [np.where(np.array(criterion_type) == 'max')[0]]] = dmax/dmax.max(axis=0)\n",
        "  # min\n",
        "  dmin = D[:, [np.where(np.array(criterion_type) == 'min')[0]]].copy()\n",
        "  D[:, [np.where(np.array(criterion_type) == 'min')[0]]] = dmin.min(axis=0)/dmin\n",
        "\n",
        "  return D\n",
        "\n",
        "# calculatopn of saw score\n",
        "def calculate_saw_scores(normalized_data, weights):\n",
        "  scores = normalized_data @ weights\n",
        "  return scores\n",
        "\n",
        "# ranking\n",
        "def rank_alternatives(total_scores):\n",
        "  ranked_indices = np.argsort(total_scores)[::-1]\n",
        "  # ranked_indices = np.argsort(total_scores)\n",
        "  return ranked_indices\n",
        "\n",
        "\n",
        "def main():\n",
        "  # Step 1:\n",
        "  data, weights, criterion_type = data_gen()\n",
        "  # Step 2: Normalize the data\n",
        "  print(data)\n",
        "  print(weights)\n",
        "  print(criterion_type)\n",
        "  normalized_data = normalize_data(data, criterion_type)\n",
        "  # Step 3: Calculate total scores\n",
        "  total_scores = calculate_saw_scores(normalized_data, weights)\n",
        "  # Step 4: Rank the alternatives\n",
        "  ranked_indices = rank_alternatives(total_scores)\n",
        "  # Display the results\n",
        "  print(\"\\nResults:\")\n",
        "  for i, index in enumerate(ranked_indices):\n",
        "      print(f\"Rank {i + 1}: Alternative {index + 1} - Total Score: {total_scores[index]:.4f}\")\n",
        "\n",
        "if __name__ == \"__main__\":\n",
        "    main()\n",
        "\n"
      ],
      "metadata": {
        "colab": {
          "base_uri": "https://localhost:8080/"
        },
        "id": "oQL_oAa3Zpgp",
        "outputId": "65d43398-595f-4ed8-ae5d-cfb77ceaa98d"
      },
      "execution_count": 107,
      "outputs": [
        {
          "output_type": "stream",
          "name": "stdout",
          "text": [
            "[[14.  7.  4. 14.  5.  2. 10. 13.]\n",
            " [ 2.  3.  6.  8.  8. 10.  9.  3.]]\n",
            "[0.12069215 0.05494594 0.15834933 0.07333232 0.04875945 0.04424314\n",
            " 0.25152156 0.2481561 ]\n",
            "['max', 'min', 'min', 'min', 'min', 'min', 'max', 'max']\n",
            "\n",
            "Results:\n",
            "Rank 1: Alternative 1 - Total Score: 0.9372\n",
            "Rank 2: Alternative 2 - Total Score: 0.5740\n"
          ]
        }
      ]
    },
    {
      "cell_type": "markdown",
      "source": [
        "#SMART"
      ],
      "metadata": {
        "id": "V8-NMe05MpE5"
      }
    },
    {
      "cell_type": "code",
      "source": [],
      "metadata": {
        "id": "V2OUDlo6RQ_e"
      },
      "execution_count": null,
      "outputs": []
    }
  ]
}