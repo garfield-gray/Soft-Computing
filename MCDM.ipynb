{
  "nbformat": 4,
  "nbformat_minor": 0,
  "metadata": {
    "colab": {
      "provenance": [],
      "authorship_tag": "ABX9TyNVXq4LJeb5FV6KSVm0XG7m",
      "include_colab_link": true
    },
    "kernelspec": {
      "name": "python3",
      "display_name": "Python 3"
    },
    "language_info": {
      "name": "python"
    }
  },
  "cells": [
    {
      "cell_type": "markdown",
      "metadata": {
        "id": "view-in-github",
        "colab_type": "text"
      },
      "source": [
        "<a href=\"https://colab.research.google.com/github/garfield-gray/Soft-Computing/blob/main/MCDM.ipynb\" target=\"_parent\"><img src=\"https://colab.research.google.com/assets/colab-badge.svg\" alt=\"Open In Colab\"/></a>"
      ]
    },
    {
      "cell_type": "code",
      "source": [
        "\n",
        "import numpy as np"
      ],
      "metadata": {
        "id": "VnUntpRgMjhm"
      },
      "execution_count": 1,
      "outputs": []
    },
    {
      "cell_type": "markdown",
      "source": [
        "#SAW"
      ],
      "metadata": {
        "id": "x5YTexdsA8kc"
      }
    },
    {
      "cell_type": "code",
      "source": [
        "\n",
        "def data_gen():\n",
        "  rawdata = np.random.randint(low=1, high=15, size=np.random.randint(low=1, high=10, size=(1,2))[0])\n",
        "  d = np.array(rawdata, dtype=np.longdouble)\n",
        "  weights = np.random.random(size = (1, d.shape[1]))\n",
        "  w = (weights/np.sum(weights))[0]\n",
        "\n",
        "  criterion_type = (np.random.randint(low=0, high=2, size = (1, d.shape[1])))[0]\n",
        "  c = list(map(lambda x: \"max\" if x == 1 else \"min\", criterion_type))\n",
        "  return d, w, c\n",
        "\n",
        "\n",
        "\n",
        "# normalization\n",
        "def normalize_data(data, criterion_type):\n",
        "  D = data.copy()\n",
        "  # max\n",
        "  dmax = D[:, [np.where(np.array(criterion_type) == 'max')[0]]].copy()\n",
        "  D[:, [np.where(np.array(criterion_type) == 'max')[0]]] = dmax/dmax.max(axis=0)\n",
        "  # min\n",
        "  dmin = D[:, [np.where(np.array(criterion_type) == 'min')[0]]].copy()\n",
        "  D[:, [np.where(np.array(criterion_type) == 'min')[0]]] = dmin.min(axis=0)/dmin\n",
        "\n",
        "  return D\n",
        "\n",
        "# calculatopn of saw score\n",
        "def calculate_saw_scores(normalized_data, weights):\n",
        "  scores = normalized_data @ weights\n",
        "  return scores\n",
        "\n",
        "# ranking\n",
        "def rank_alternatives(total_scores):\n",
        "  ranked_indices = np.argsort(total_scores)[::-1]\n",
        "  # ranked_indices = np.argsort(total_scores)\n",
        "  return ranked_indices\n",
        "\n",
        "\n",
        "def main():\n",
        "  # Step 1:\n",
        "  data, weights, criterion_type = data_gen()\n",
        "  # Step 2: Normalize the data\n",
        "  print(data)\n",
        "  print(weights)\n",
        "  print(criterion_type)\n",
        "  normalized_data = normalize_data(data, criterion_type)\n",
        "  # Step 3: Calculate total scores\n",
        "  total_scores = calculate_saw_scores(normalized_data, weights)\n",
        "  # Step 4: Rank the alternatives\n",
        "  ranked_indices = rank_alternatives(total_scores)\n",
        "  # Display the results\n",
        "  print(\"\\nResults:\")\n",
        "  for i, index in enumerate(ranked_indices):\n",
        "      print(f\"Rank {i + 1}: Alternative {index + 1} - Total Score: {total_scores[index]:.4f}\")\n",
        "\n",
        "if __name__ == \"__main__\":\n",
        "    main()\n",
        "\n"
      ],
      "metadata": {
        "colab": {
          "base_uri": "https://localhost:8080/"
        },
        "id": "oQL_oAa3Zpgp",
        "outputId": "a70486ee-4b0c-49e5-e1a0-6ded9bae1660"
      },
      "execution_count": null,
      "outputs": [
        {
          "output_type": "stream",
          "name": "stdout",
          "text": [
            "[[ 5. 12. 11. 12.  7.  5.  7. 10.]\n",
            " [11.  9. 12.  5.  8.  5.  6.  8.]\n",
            " [ 2. 10.  3.  2.  1.  6. 13. 10.]\n",
            " [ 5.  8.  1. 10.  1. 13. 14. 12.]\n",
            " [ 5.  6.  3.  9.  5.  2.  3.  2.]\n",
            " [14.  2.  1.  1. 11.  4.  1.  8.]\n",
            " [ 8.  6. 11. 12.  7. 10.  8.  3.]]\n",
            "[0.12617818 0.05968727 0.05298214 0.14662708 0.17828387 0.15452881\n",
            " 0.14907566 0.132637  ]\n",
            "['max', 'max', 'max', 'min', 'max', 'min', 'min', 'max']\n",
            "\n",
            "Results:\n",
            "Rank 1: Alternative 6 - Total Score: 0.7802\n",
            "Rank 2: Alternative 2 - Total Score: 0.5310\n",
            "Rank 3: Alternative 1 - Total Score: 0.4726\n",
            "Rank 4: Alternative 5 - Total Score: 0.4118\n",
            "Rank 5: Alternative 7 - Total Score: 0.3589\n",
            "Rank 6: Alternative 3 - Total Score: 0.3440\n",
            "Rank 7: Alternative 4 - Total Score: 0.2872\n"
          ]
        }
      ]
    },
    {
      "cell_type": "markdown",
      "source": [
        "#SMART"
      ],
      "metadata": {
        "id": "V8-NMe05MpE5"
      }
    },
    {
      "cell_type": "code",
      "source": [
        "# calculate scores\n",
        "\n",
        "g = np.array([9, 5, 7, 6])\n",
        "sq = lambda x: np.power(np.power(2, 0.5) , x)\n",
        "g = list(map(sq, g))\n",
        "g = g/np.sum(g)\n",
        "print(g)"
      ],
      "metadata": {
        "id": "V2OUDlo6RQ_e",
        "colab": {
          "base_uri": "https://localhost:8080/"
        },
        "outputId": "33e224f8-4098-4fad-cfed-b1b80e36dc56"
      },
      "execution_count": 61,
      "outputs": [
        {
          "output_type": "stream",
          "name": "stdout",
          "text": [
            "[0.47538608 0.11884652 0.23769304 0.16807436]\n"
          ]
        }
      ]
    },
    {
      "cell_type": "code",
      "source": [
        "np.sqrt(2)**6"
      ],
      "metadata": {
        "colab": {
          "base_uri": "https://localhost:8080/"
        },
        "id": "-0HFDKTTApAG",
        "outputId": "ad30cc76-ff18-4e73-fafc-7120b5a125b7"
      },
      "execution_count": 7,
      "outputs": [
        {
          "output_type": "execute_result",
          "data": {
            "text/plain": [
              "8.000000000000004"
            ]
          },
          "metadata": {},
          "execution_count": 7
        }
      ]
    },
    {
      "cell_type": "code",
      "source": [
        "lower = np.array([20300, 140, 8.2, 230])\n",
        "\n",
        "# Max Criteria Threshold\n",
        "upper = np.array([40000, 220, 20, 2000])\n",
        "\n",
        "# Criterion Type: 'max' or 'min'\n",
        "criterion_type = ['min', 'max', 'min', 'max']\n",
        "\n",
        "# Dataset\n",
        "dataset = np.array([\n",
        "                    [25000, 153, 15.3, 250],   #a1\n",
        "                    [33000, 177, 12.3, 380],   #a2\n",
        "                    [40000, 199, 11.1, 480]    #a3\n",
        "                   ])"
      ],
      "metadata": {
        "id": "_SFaII7jBx0-"
      },
      "execution_count": 50,
      "outputs": []
    },
    {
      "cell_type": "code",
      "source": [
        "#normalization\n",
        "\n",
        "dist = upper - lower\n",
        "print(dist)\n",
        "dataset = np.log2(64*((dataset - np.tile(lower, (dataset.shape[0],1)))/dist))\n",
        "\n",
        "D = dataset.copy()\n",
        "# max\n",
        "dmax = D[:, [np.where(np.array(criterion_type) == 'max')[0]]].copy()\n",
        "D[:, [np.where(np.array(criterion_type) == 'max')[0]]] = dmax+4\n",
        "# min\n",
        "dmin = D[:, [np.where(np.array(criterion_type) == 'min')[0]]].copy()\n",
        "D[:, [np.where(np.array(criterion_type) == 'min')[0]]] = -1*dmin+10\n",
        "\n"
      ],
      "metadata": {
        "colab": {
          "base_uri": "https://localhost:8080/"
        },
        "id": "qq9vyGQcElAu",
        "outputId": "8b57685b-52f4-4514-cf40-ae77ea344462"
      },
      "execution_count": 51,
      "outputs": [
        {
          "output_type": "stream",
          "name": "stdout",
          "text": [
            "[1.97e+04 8.00e+01 1.18e+01 1.77e+03]\n"
          ]
        }
      ]
    },
    {
      "cell_type": "code",
      "source": [
        "print(D)"
      ],
      "metadata": {
        "colab": {
          "base_uri": "https://localhost:8080/"
        },
        "id": "F_9v6yopExkZ",
        "outputId": "1336f5de-97c3-4125-bf17-c9d9dc49df89"
      },
      "execution_count": 63,
      "outputs": [
        {
          "output_type": "stream",
          "name": "stdout",
          "text": [
            "[[6.06746297 7.37851162 4.73289593 3.53239445]\n",
            " [4.63336713 8.88752527 5.52509104 6.43928505]\n",
            " [4.         9.56071495 6.02466205 7.17625064]]\n"
          ]
        }
      ]
    },
    {
      "cell_type": "code",
      "source": [
        "# @title Default title text\n",
        "# SMART\n",
        "\n",
        "# Grades - From 4 (worst) to 10 (best)\n",
        "grades = np.array([9, 5, 7, 6])\n",
        "\n",
        "# Min Criteria Threshold\n",
        "lower = np.array([20300, 140, 8.2, 230])\n",
        "\n",
        "# Max Criteria Threshold\n",
        "upper = np.array([40000, 220, 20, 2000])\n",
        "\n",
        "# Criterion Type: 'max' or 'min'\n",
        "criterion_type = ['min', 'max', 'min', 'max']\n",
        "\n",
        "# Dataset\n",
        "dataset = np.array([\n",
        "                    [25000, 153, 15.3, 250],   #a1\n",
        "                    [33000, 177, 12.3, 380],   #a2\n",
        "                    [40000, 199, 11.1, 480]    #a3\n",
        "                   ])"
      ],
      "metadata": {
        "id": "m3u5gDn_Hyt0"
      },
      "execution_count": 57,
      "outputs": []
    },
    {
      "cell_type": "code",
      "source": [
        "def smart_method(dataset, grades, lower, upper, criterion_type):\n",
        "    w = np.copy(grades)/1.0\n",
        "    for i in range(0, w.shape[0]):\n",
        "        w[i] = (2**(1/2))**w[i]\n",
        "    w = w/np.sum(w)\n",
        "    X = np.copy(dataset)/1.0\n",
        "    for i in range(0, X.shape[1]):\n",
        "        if ( criterion_type[i] == 'max'):\n",
        "            X[:,i] =  4 + np.log2( ((dataset[:,i] - lower[i] ) / (upper[i] - lower[i]))*(64) )\n",
        "        else:\n",
        "            X[:,i] = 10 - np.log2( ((dataset[:,i] - lower[i] ) / (upper[i] - lower[i]))*(64) )\n",
        "    print(w)\n",
        "    Y    = np.sum(X*w, axis = 1)\n",
        "    print(\"*******************\")\n",
        "    print(Y)\n",
        "    flow = np.copy(Y)\n",
        "    flow = np.reshape(flow, (Y.shape[0], 1))\n",
        "    flow = np.insert(flow, 0, list(range(1, Y.shape[0]+1)), axis = 1)\n",
        "    # if (verbose == True):\n",
        "    #     for i in range(0, flow.shape[0]):\n",
        "    #         print('a' + str(int(flow[i,0])) + ': ' + str(round(flow[i,1], 3)))\n",
        "    # if (graph == True):\n",
        "    #     flow = flow[np.argsort(flow[:, 1])]\n",
        "    #     flow = flow[::-1]\n",
        "    #     ranking(flow)\n",
        "    return flow"
      ],
      "metadata": {
        "id": "l4gX8-lDG38k"
      },
      "execution_count": 58,
      "outputs": []
    },
    {
      "cell_type": "code",
      "source": [
        "rank = smart_method(dataset, grades, lower, upper, criterion_type)"
      ],
      "metadata": {
        "colab": {
          "base_uri": "https://localhost:8080/"
        },
        "id": "k4sZIHCoHpRu",
        "outputId": "f904d524-aa95-4728-807c-0327176416fc"
      },
      "execution_count": 59,
      "outputs": [
        {
          "output_type": "stream",
          "name": "stdout",
          "text": [
            "[0.47538608 0.11884652 0.23769304 0.16807436]\n",
            "*******************\n",
            "[5.47997922 5.65444409 5.67596599]\n"
          ]
        }
      ]
    },
    {
      "cell_type": "code",
      "source": [
        "rank"
      ],
      "metadata": {
        "colab": {
          "base_uri": "https://localhost:8080/"
        },
        "id": "dDyTh7miICsI",
        "outputId": "bccdc253-4f7a-425e-db61-5e231f0025c8"
      },
      "execution_count": 60,
      "outputs": [
        {
          "output_type": "execute_result",
          "data": {
            "text/plain": [
              "array([[1.        , 5.47997922],\n",
              "       [2.        , 5.65444409],\n",
              "       [3.        , 5.67596599]])"
            ]
          },
          "metadata": {},
          "execution_count": 60
        }
      ]
    },
    {
      "cell_type": "code",
      "source": [
        "D@g"
      ],
      "metadata": {
        "colab": {
          "base_uri": "https://localhost:8080/"
        },
        "id": "ExYBahVLIEJ3",
        "outputId": "3af386fb-c904-44fa-ab07-6a109041145c"
      },
      "execution_count": 64,
      "outputs": [
        {
          "output_type": "execute_result",
          "data": {
            "text/plain": [
              "array([5.47997922, 5.65444409, 5.67596599])"
            ]
          },
          "metadata": {},
          "execution_count": 64
        }
      ]
    },
    {
      "cell_type": "code",
      "source": [],
      "metadata": {
        "id": "xTkqkCU1RF3I"
      },
      "execution_count": null,
      "outputs": []
    },
    {
      "cell_type": "markdown",
      "source": [
        "# BWM"
      ],
      "metadata": {
        "id": "opkJWP3LRyYi"
      }
    },
    {
      "cell_type": "code",
      "source": [],
      "metadata": {
        "id": "emJJZtC3RzYY"
      },
      "execution_count": null,
      "outputs": []
    }
  ]
}