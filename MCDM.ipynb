{
  "nbformat": 4,
  "nbformat_minor": 0,
  "metadata": {
    "colab": {
      "provenance": [],
      "authorship_tag": "ABX9TyM3AVTeg4EuTvIRLvrQe1mM",
      "include_colab_link": true
    },
    "kernelspec": {
      "name": "python3",
      "display_name": "Python 3"
    },
    "language_info": {
      "name": "python"
    }
  },
  "cells": [
    {
      "cell_type": "markdown",
      "metadata": {
        "id": "view-in-github",
        "colab_type": "text"
      },
      "source": [
        "<a href=\"https://colab.research.google.com/github/garfield-gray/Soft-Computing/blob/main/MCDM.ipynb\" target=\"_parent\"><img src=\"https://colab.research.google.com/assets/colab-badge.svg\" alt=\"Open In Colab\"/></a>"
      ]
    },
    {
      "cell_type": "code",
      "source": [
        "import numpy as np\n",
        "\n",
        "data = np.random.randint(low=1, high=15, size=np.random.randint(low=1, high=10, size=(1,2))[0])\n",
        "weights = np.random.random(size = (1, data.shape[1]))\n",
        "weights = (weights/np.sum(weights))[0]\n",
        "criterion_type = (np.random.randint(low=0, high=2, size = (1, data.shape[1])))[0]\n",
        "criterion_type = list(map(lambda x: \"max\" if x == 1 else \"min\", criterion_type))\n",
        "print(data)\n",
        "print(weights)\n",
        "print(np.sum(weights))\n",
        "print(criterion_type)"
      ],
      "metadata": {
        "colab": {
          "base_uri": "https://localhost:8080/"
        },
        "id": "svpqiUfE_HHi",
        "outputId": "9426ea46-e949-41e5-db3a-b5883cd8375b"
      },
      "execution_count": 79,
      "outputs": [
        {
          "output_type": "stream",
          "name": "stdout",
          "text": [
            "[[ 4  5  2  7]\n",
            " [ 7  1  5  4]\n",
            " [ 4  4  9 10]\n",
            " [ 2  3  5 10]\n",
            " [10  1 13 14]]\n",
            "[0.10015473 0.30357527 0.23634032 0.35992968]\n",
            "1.0\n",
            "['max', 'min', 'max', 'max']\n"
          ]
        }
      ]
    },
    {
      "cell_type": "markdown",
      "source": [
        "#SAW"
      ],
      "metadata": {
        "id": "x5YTexdsA8kc"
      }
    },
    {
      "cell_type": "code",
      "source": [
        "def normalize_data(data, criterion_type):\n",
        "  data-max\n",
        "  data-min\n",
        "  data\n",
        "  return data / data.max(axis=0)\n",
        "\n",
        "\n",
        "n_data = normalize_data(data)\n",
        "print(n_data)"
      ],
      "metadata": {
        "colab": {
          "base_uri": "https://localhost:8080/"
        },
        "id": "oQL_oAa3Zpgp",
        "outputId": "bcea6d2d-1969-41cd-b972-1f92e338daa2"
      },
      "execution_count": 40,
      "outputs": [
        {
          "output_type": "stream",
          "name": "stdout",
          "text": [
            "[[0.64285714 0.30769231 0.07692308 0.8        0.66666667]\n",
            " [1.         0.07692308 0.46153846 0.7        1.        ]\n",
            " [0.57142857 0.46153846 1.         0.8        0.83333333]\n",
            " [0.78571429 1.         0.15384615 0.6        0.5       ]\n",
            " [0.42857143 0.84615385 0.38461538 1.         0.33333333]]\n"
          ]
        }
      ]
    },
    {
      "cell_type": "code",
      "execution_count": null,
      "metadata": {
        "id": "P8m7SJ8R99W6",
        "colab": {
          "base_uri": "https://localhost:8080/",
          "height": 356
        },
        "outputId": "5699c0c1-41b0-49b4-e70c-6a17dc346412"
      },
      "outputs": [
        {
          "output_type": "error",
          "ename": "KeyboardInterrupt",
          "evalue": "ignored",
          "traceback": [
            "\u001b[0;31m---------------------------------------------------------------------------\u001b[0m",
            "\u001b[0;31mKeyboardInterrupt\u001b[0m                         Traceback (most recent call last)",
            "\u001b[0;32m<ipython-input-2-7b79d62ab662>\u001b[0m in \u001b[0;36m<cell line: 59>\u001b[0;34m()\u001b[0m\n\u001b[1;32m     58\u001b[0m \u001b[0;34m\u001b[0m\u001b[0m\n\u001b[1;32m     59\u001b[0m \u001b[0;32mif\u001b[0m \u001b[0m__name__\u001b[0m \u001b[0;34m==\u001b[0m \u001b[0;34m\"__main__\"\u001b[0m\u001b[0;34m:\u001b[0m\u001b[0;34m\u001b[0m\u001b[0;34m\u001b[0m\u001b[0m\n\u001b[0;32m---> 60\u001b[0;31m     \u001b[0mmain\u001b[0m\u001b[0;34m(\u001b[0m\u001b[0;34m)\u001b[0m\u001b[0;34m\u001b[0m\u001b[0;34m\u001b[0m\u001b[0m\n\u001b[0m",
            "\u001b[0;32m<ipython-input-2-7b79d62ab662>\u001b[0m in \u001b[0;36mmain\u001b[0;34m()\u001b[0m\n\u001b[1;32m     38\u001b[0m \u001b[0;34m\u001b[0m\u001b[0m\n\u001b[1;32m     39\u001b[0m \u001b[0;32mdef\u001b[0m \u001b[0mmain\u001b[0m\u001b[0;34m(\u001b[0m\u001b[0;34m)\u001b[0m\u001b[0;34m:\u001b[0m\u001b[0;34m\u001b[0m\u001b[0;34m\u001b[0m\u001b[0m\n\u001b[0;32m---> 40\u001b[0;31m     \u001b[0mcriteria\u001b[0m\u001b[0;34m,\u001b[0m \u001b[0mweights\u001b[0m\u001b[0;34m,\u001b[0m \u001b[0malternatives\u001b[0m \u001b[0;34m=\u001b[0m \u001b[0mget_user_input\u001b[0m\u001b[0;34m(\u001b[0m\u001b[0;34m)\u001b[0m\u001b[0;34m\u001b[0m\u001b[0;34m\u001b[0m\u001b[0m\n\u001b[0m\u001b[1;32m     41\u001b[0m \u001b[0;34m\u001b[0m\u001b[0m\n\u001b[1;32m     42\u001b[0m     \u001b[0;31m# Convert data to NumPy array for easier manipulation\u001b[0m\u001b[0;34m\u001b[0m\u001b[0;34m\u001b[0m\u001b[0m\n",
            "\u001b[0;32m<ipython-input-2-7b79d62ab662>\u001b[0m in \u001b[0;36mget_user_input\u001b[0;34m()\u001b[0m\n\u001b[1;32m      2\u001b[0m \u001b[0;34m\u001b[0m\u001b[0m\n\u001b[1;32m      3\u001b[0m \u001b[0;32mdef\u001b[0m \u001b[0mget_user_input\u001b[0m\u001b[0;34m(\u001b[0m\u001b[0;34m)\u001b[0m\u001b[0;34m:\u001b[0m\u001b[0;34m\u001b[0m\u001b[0;34m\u001b[0m\u001b[0m\n\u001b[0;32m----> 4\u001b[0;31m     \u001b[0mnum_criteria\u001b[0m \u001b[0;34m=\u001b[0m \u001b[0mint\u001b[0m\u001b[0;34m(\u001b[0m\u001b[0minput\u001b[0m\u001b[0;34m(\u001b[0m\u001b[0;34m\"Enter the number of criteria: \"\u001b[0m\u001b[0;34m)\u001b[0m\u001b[0;34m)\u001b[0m\u001b[0;34m\u001b[0m\u001b[0;34m\u001b[0m\u001b[0m\n\u001b[0m\u001b[1;32m      5\u001b[0m     \u001b[0mcriteria\u001b[0m \u001b[0;34m=\u001b[0m \u001b[0;34m[\u001b[0m\u001b[0;34m]\u001b[0m\u001b[0;34m\u001b[0m\u001b[0;34m\u001b[0m\u001b[0m\n\u001b[1;32m      6\u001b[0m     \u001b[0mweights\u001b[0m \u001b[0;34m=\u001b[0m \u001b[0;34m[\u001b[0m\u001b[0;34m]\u001b[0m\u001b[0;34m\u001b[0m\u001b[0;34m\u001b[0m\u001b[0m\n",
            "\u001b[0;32m/usr/local/lib/python3.10/dist-packages/ipykernel/kernelbase.py\u001b[0m in \u001b[0;36mraw_input\u001b[0;34m(self, prompt)\u001b[0m\n\u001b[1;32m    849\u001b[0m                 \u001b[0;34m\"raw_input was called, but this frontend does not support input requests.\"\u001b[0m\u001b[0;34m\u001b[0m\u001b[0;34m\u001b[0m\u001b[0m\n\u001b[1;32m    850\u001b[0m             )\n\u001b[0;32m--> 851\u001b[0;31m         return self._input_request(str(prompt),\n\u001b[0m\u001b[1;32m    852\u001b[0m             \u001b[0mself\u001b[0m\u001b[0;34m.\u001b[0m\u001b[0m_parent_ident\u001b[0m\u001b[0;34m,\u001b[0m\u001b[0;34m\u001b[0m\u001b[0;34m\u001b[0m\u001b[0m\n\u001b[1;32m    853\u001b[0m             \u001b[0mself\u001b[0m\u001b[0;34m.\u001b[0m\u001b[0m_parent_header\u001b[0m\u001b[0;34m,\u001b[0m\u001b[0;34m\u001b[0m\u001b[0;34m\u001b[0m\u001b[0m\n",
            "\u001b[0;32m/usr/local/lib/python3.10/dist-packages/ipykernel/kernelbase.py\u001b[0m in \u001b[0;36m_input_request\u001b[0;34m(self, prompt, ident, parent, password)\u001b[0m\n\u001b[1;32m    893\u001b[0m             \u001b[0;32mexcept\u001b[0m \u001b[0mKeyboardInterrupt\u001b[0m\u001b[0;34m:\u001b[0m\u001b[0;34m\u001b[0m\u001b[0;34m\u001b[0m\u001b[0m\n\u001b[1;32m    894\u001b[0m                 \u001b[0;31m# re-raise KeyboardInterrupt, to truncate traceback\u001b[0m\u001b[0;34m\u001b[0m\u001b[0;34m\u001b[0m\u001b[0m\n\u001b[0;32m--> 895\u001b[0;31m                 \u001b[0;32mraise\u001b[0m \u001b[0mKeyboardInterrupt\u001b[0m\u001b[0;34m(\u001b[0m\u001b[0;34m\"Interrupted by user\"\u001b[0m\u001b[0;34m)\u001b[0m \u001b[0;32mfrom\u001b[0m \u001b[0;32mNone\u001b[0m\u001b[0;34m\u001b[0m\u001b[0;34m\u001b[0m\u001b[0m\n\u001b[0m\u001b[1;32m    896\u001b[0m             \u001b[0;32mexcept\u001b[0m \u001b[0mException\u001b[0m \u001b[0;32mas\u001b[0m \u001b[0me\u001b[0m\u001b[0;34m:\u001b[0m\u001b[0;34m\u001b[0m\u001b[0;34m\u001b[0m\u001b[0m\n\u001b[1;32m    897\u001b[0m                 \u001b[0mself\u001b[0m\u001b[0;34m.\u001b[0m\u001b[0mlog\u001b[0m\u001b[0;34m.\u001b[0m\u001b[0mwarning\u001b[0m\u001b[0;34m(\u001b[0m\u001b[0;34m\"Invalid Message:\"\u001b[0m\u001b[0;34m,\u001b[0m \u001b[0mexc_info\u001b[0m\u001b[0;34m=\u001b[0m\u001b[0;32mTrue\u001b[0m\u001b[0;34m)\u001b[0m\u001b[0;34m\u001b[0m\u001b[0;34m\u001b[0m\u001b[0m\n",
            "\u001b[0;31mKeyboardInterrupt\u001b[0m: Interrupted by user"
          ]
        }
      ],
      "source": [
        "import numpy as np\n",
        "\n",
        "def get_user_input():\n",
        "    num_criteria = int(input(\"Enter the number of criteria: \"))\n",
        "    criteria = []\n",
        "    weights = []\n",
        "\n",
        "    for i in range(num_criteria):\n",
        "        criterion = input(f\"Enter criterion {i + 1}: \")\n",
        "        weight = float(input(f\"Enter weight for {criterion}: \"))\n",
        "        criteria.append(criterion)\n",
        "        weights.append(weight)\n",
        "\n",
        "    num_alternatives = int(input(\"Enter the number of alternatives: \"))\n",
        "    alternatives = []\n",
        "\n",
        "    for i in range(num_alternatives):\n",
        "        alternative = []\n",
        "        print(f\"\\nEnter data for Alternative {i + 1}:\")\n",
        "        for j in range(num_criteria):\n",
        "            value = float(input(f\"Enter {criteria[j]} for Alternative {i + 1}: \"))\n",
        "            alternative.append(value)\n",
        "        alternatives.append(alternative)\n",
        "\n",
        "    return criteria, weights, alternatives\n",
        "\n",
        "def normalize_data(data):\n",
        "    return (data - data.min(axis=0)) / (data.max(axis=0) - data.min(axis=0))\n",
        "\n",
        "def calculate_saw_scores(normalized_data, weights):\n",
        "    weighted_scores = normalized_data * weights\n",
        "    total_scores = weighted_scores.sum(axis=1)\n",
        "    return total_scores\n",
        "\n",
        "def rank_alternatives(total_scores):\n",
        "    ranked_indices = np.argsort(total_scores)[::-1]\n",
        "    return ranked_indices\n",
        "\n",
        "def main():\n",
        "    criteria, weights, alternatives = get_user_input()\n",
        "\n",
        "    # Convert data to NumPy array for easier manipulation\n",
        "    alternatives_data = np.array(alternatives)\n",
        "\n",
        "    # Step 2: Normalize the data\n",
        "    normalized_data = normalize_data(alternatives_data)\n",
        "\n",
        "    # Step 3: Calculate total scores\n",
        "    total_scores = calculate_saw_scores(normalized_data, weights)\n",
        "\n",
        "    # Step 4: Rank the alternatives\n",
        "    ranked_indices = rank_alternatives(total_scores)\n",
        "\n",
        "    # Display the results\n",
        "    print(\"\\nResults:\")\n",
        "    for i, index in enumerate(ranked_indices):\n",
        "        print(f\"Rank {i + 1}: Alternative {index + 1} - Total Score: {total_scores[index]:.4f}\")\n",
        "\n",
        "if __name__ == \"__main__\":\n",
        "    main()\n"
      ]
    },
    {
      "cell_type": "code",
      "source": [
        "x = np.random.randint(0, 8, size = 8)\n",
        "print(x)\n",
        "print(np.argsort(x))"
      ],
      "metadata": {
        "id": "SLjbueshJXPX",
        "colab": {
          "base_uri": "https://localhost:8080/"
        },
        "outputId": "cc164284-ebf2-498f-9c8c-f605f18394fc"
      },
      "execution_count": null,
      "outputs": [
        {
          "output_type": "stream",
          "name": "stdout",
          "text": [
            "[7 3 1 0 7 3 7 4]\n",
            "[3 2 1 5 7 0 4 6]\n"
          ]
        }
      ]
    },
    {
      "cell_type": "code",
      "source": [],
      "metadata": {
        "id": "V2OUDlo6RQ_e"
      },
      "execution_count": null,
      "outputs": []
    }
  ]
}