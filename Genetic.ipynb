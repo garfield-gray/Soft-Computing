{
 "cells": [
  {
   "cell_type": "code",
   "execution_count": 1,
   "id": "74e881aa",
   "metadata": {},
   "outputs": [],
   "source": [
    "#genetic algorithm \n",
    "using Evolutionary"
   ]
  },
  {
   "cell_type": "code",
   "execution_count": 13,
   "id": "3eadeed2",
   "metadata": {},
   "outputs": [
    {
     "data": {
      "text/plain": [
       "obj (generic function with 1 method)"
      ]
     },
     "execution_count": 13,
     "metadata": {},
     "output_type": "execute_result"
    }
   ],
   "source": [
    "#problem 1\n",
    "    #defining the objective function\n",
    "K = zeros(6)\n",
    "for k in 1:6\n",
    "    K[k] = 500 + 200*(5/3-k)^2\n",
    "end\n",
    "W = zeros(5)\n",
    "for w in 1:5\n",
    "    W[w] = 50*(w)\n",
    "end\n",
    "\n",
    "function obj(x)\n",
    "    PE = 0\n",
    "    PE += 1/2*K[1]*(sqrt((x[1]-0)^2 + (x[6]-0)^2)-10)^2\n",
    "    for i in 2:5\n",
    "        PE += 1/2*K[i]*(sqrt((x[i]-x[i-1])^2+(x[i+5]-x[i+4])^2)-10)^2\n",
    "    end\n",
    "    PE += 1/2*K[6]*(sqrt((60-x[5])^2+(0-x[10])^2)-10)^2\n",
    "    for j in 1:5\n",
    "        PE += W[j]*x[j+5]\n",
    "    end\n",
    "    return PE \n",
    "end"
   ]
  },
  {
   "cell_type": "code",
   "execution_count": 49,
   "id": "7356309c",
   "metadata": {
    "scrolled": false
   },
   "outputs": [
    {
     "data": {
      "text/plain": [
       "\n",
       " * Status: success\n",
       "\n",
       " * Candidate solution\n",
       "    Minimizer:  [10.265625, 21.0, 31.523193359375,  ...]\n",
       "    Minimum:    -4149.806351529002\n",
       "    Iterations: 20\n",
       "\n",
       " * Found with\n",
       "    Algorithm: GA[P=1000,x=0.8,μ=0.1,ɛ=0.9]\n",
       "\n",
       " * Work counters\n",
       "    Seconds run:   0.0686 (vs limit Inf)\n",
       "    Iterations:    20\n",
       "    f(x) calls:    21004\n"
      ]
     },
     "execution_count": 49,
     "metadata": {},
     "output_type": "execute_result"
    }
   ],
   "source": [
    "    #using geneticalgorithm \n",
    "x1 = [10.0;21;31;42;51;-4;-7;-9;-9;-6]\n",
    "ga = GA(populationSize = 1000,mutationRate = 0.1, epsilon = 0.9, selection = susinv,\n",
    "                crossover = discrete, mutation = domainrange(ones(10)))\n",
    "res = Evolutionary.optimize(obj, x1, ga, Evolutionary.Options(iterations=5000))"
   ]
  },
  {
   "cell_type": "code",
   "execution_count": 50,
   "id": "2ffb4255",
   "metadata": {},
   "outputs": [
    {
     "data": {
      "text/plain": [
       "10-element Vector{Float64}:\n",
       " 10.265625\n",
       " 21.0\n",
       " 31.523193359375\n",
       " 42.00006103515625\n",
       " 51.500030517578125\n",
       " -3.940366744995117\n",
       " -7.2502593994140625\n",
       " -8.99993896484375\n",
       " -9.0\n",
       " -6.015386581420898"
      ]
     },
     "execution_count": 50,
     "metadata": {},
     "output_type": "execute_result"
    }
   ],
   "source": [
    "Evolutionary.minimizer(res)"
   ]
  },
  {
   "cell_type": "code",
   "execution_count": null,
   "id": "ac1ec58e",
   "metadata": {},
   "outputs": [],
   "source": []
  },
  {
   "cell_type": "code",
   "execution_count": null,
   "id": "6102a0f6",
   "metadata": {},
   "outputs": [],
   "source": []
  },
  {
   "cell_type": "code",
   "execution_count": 1,
   "id": "93439d34",
   "metadata": {},
   "outputs": [],
   "source": [
    "#problem 2\n",
    "    #defining the objective function\n",
    "#still don't know how to deal with discrete"
   ]
  },
  {
   "cell_type": "code",
   "execution_count": null,
   "id": "663af768",
   "metadata": {},
   "outputs": [],
   "source": []
  },
  {
   "cell_type": "code",
   "execution_count": null,
   "id": "1e1f23d9",
   "metadata": {},
   "outputs": [],
   "source": []
  },
  {
   "cell_type": "code",
   "execution_count": null,
   "id": "6d9cf43e",
   "metadata": {},
   "outputs": [],
   "source": []
  },
  {
   "cell_type": "code",
   "execution_count": 51,
   "id": "ace655a5",
   "metadata": {},
   "outputs": [
    {
     "data": {
      "text/plain": [
       "spg (generic function with 1 method)"
      ]
     },
     "execution_count": 51,
     "metadata": {},
     "output_type": "execute_result"
    }
   ],
   "source": [
    "#problem 3\n",
    "    #defining the objective function\n",
    "spg(x) = (x[1]+2)*x[2]*x[3]^2  #(n,D,d) = (x[1],x[2],x[3])  #spring "
   ]
  },
  {
   "cell_type": "code",
   "execution_count": 56,
   "id": "2fa3887d",
   "metadata": {},
   "outputs": [
    {
     "data": {
      "text/plain": [
       "0.011834549999999998"
      ]
     },
     "execution_count": 56,
     "metadata": {},
     "output_type": "execute_result"
    }
   ],
   "source": [
    "spg([11, 0.35, 0.051])"
   ]
  },
  {
   "cell_type": "code",
   "execution_count": 57,
   "id": "c4505548",
   "metadata": {},
   "outputs": [
    {
     "data": {
      "text/plain": [
       "Penalty Constraints:\n",
       "  Penalties: [10.0, 10.0, 10.0, 10.0, 10.0, 10.0, 10.0]\n",
       "ConstraintBounds:\n",
       "  Variables:\n",
       "    x[1]≥2.0, x[1]≤15.0, x[2]≥0.25, x[2]≤1.3, x[3]≥0.05, x[3]≤2.0\n",
       "  Linear/nonlinear constraints:\n",
       "    c_1≤0.0, c_2≤1.0, c_3≤0.0, c_4≤1.0"
      ]
     },
     "execution_count": 57,
     "metadata": {},
     "output_type": "execute_result"
    }
   ],
   "source": [
    "    #boundries & penalties\n",
    "# 2<n<15  0.25<D<1.3  0.05<d<2\n",
    "lx = [2, 0.25, 0.05] # lower bound for values\n",
    "ux = [15, 1.3, 2] # upper bound for values\n",
    "#constrant functions\n",
    "c1(x) = [1 - x[1]*x[2]^3/(71875*x[3]^4)]\n",
    "c2(x) = [ (4*x[2]^2 - x[3]*x[2])/(12566(x[2]*x[3]^3-x[3]^4)) + 1/(5108*x[3]^2)]\n",
    "c3(x) = [1 - 140.45*x[3]/(x[1]*x[2]^2)]\n",
    "c4(x) = [(x[2]+x[3])/1.5]\n",
    "C = [c1, c2, c3, c4]\n",
    "lc   = [-Inf, -Inf, -Inf, -Inf] # lower bound for constraint function\n",
    "uc   = [0.0, 1, 0, 1]   # upper bound for constraint function\n",
    "con = PenaltyConstraints(10.0, lx, ux, lc, uc, C) # first parameter is a penalty value"
   ]
  },
  {
   "cell_type": "code",
   "execution_count": 61,
   "id": "80a7f7ef",
   "metadata": {
    "scrolled": true
   },
   "outputs": [
    {
     "ename": "LoadError",
     "evalue": "DimensionMismatch(\"bounds arrays must be consistent, got sizes (1,) and (3,)\")",
     "output_type": "error",
     "traceback": [
      "DimensionMismatch(\"bounds arrays must be consistent, got sizes (1,) and (3,)\")",
      "",
      "Stacktrace:",
      " [1] symmetrize(l::Vector{PenaltyConstraints{Float64, Vector{Function}}}, u::Vector{Float64})",
      "   @ NLSolversBase ~/.julia/packages/NLSolversBase/GRQ1x/src/objective_types/constraints.jl:346",
      " [2] ConstraintBounds",
      "   @ ~/.julia/packages/NLSolversBase/GRQ1x/src/objective_types/constraints.jl:35 [inlined]",
      " [3] optimize(f::Function, lower::Vector{PenaltyConstraints{Float64, Vector{Function}}}, upper::Vector{Float64}, method::GA, options::Evolutionary.Options{Nothing}) (repeats 2 times)",
      "   @ Evolutionary ~/.julia/packages/Evolutionary/A1BkY/src/api/optimize.jl:7",
      " [4] top-level scope",
      "   @ In[61]:5",
      " [5] eval",
      "   @ ./boot.jl:360 [inlined]",
      " [6] include_string(mapexpr::typeof(REPL.softscope), mod::Module, code::String, filename::String)",
      "   @ Base ./loading.jl:1116"
     ]
    }
   ],
   "source": [
    "    #using geneticalgorithm \n",
    "x2 = [11, 1., 1.] # individual\n",
    "ga = GA(populationSize = 1000, selection = susinv,\n",
    "                crossover = discrete, mutation = domainrange(ones(3)))\n",
    "res3 = Evolutionary.optimize(spg, [con], x2, ga)"
   ]
  },
  {
   "cell_type": "code",
   "execution_count": 55,
   "id": "a4aa8750",
   "metadata": {},
   "outputs": [
    {
     "data": {
      "text/plain": [
       "3-element Vector{Float64}:\n",
       " 1.0156288146972656\n",
       " 1.0000019073486328\n",
       " 0.0"
      ]
     },
     "execution_count": 55,
     "metadata": {},
     "output_type": "execute_result"
    }
   ],
   "source": [
    "Evolutionary.minimizer(res3)"
   ]
  },
  {
   "cell_type": "code",
   "execution_count": null,
   "id": "3d757f64",
   "metadata": {},
   "outputs": [],
   "source": []
  },
  {
   "cell_type": "code",
   "execution_count": null,
   "id": "f5f2ae99",
   "metadata": {},
   "outputs": [],
   "source": [
    "#problem 4\n",
    "    #defining the objective function"
   ]
  },
  {
   "cell_type": "code",
   "execution_count": null,
   "id": "342d1f80",
   "metadata": {},
   "outputs": [],
   "source": []
  },
  {
   "cell_type": "code",
   "execution_count": null,
   "id": "193eaf46",
   "metadata": {},
   "outputs": [],
   "source": []
  },
  {
   "cell_type": "code",
   "execution_count": null,
   "id": "3fc457a7",
   "metadata": {},
   "outputs": [],
   "source": []
  },
  {
   "cell_type": "code",
   "execution_count": null,
   "id": "d6e64485",
   "metadata": {},
   "outputs": [],
   "source": []
  },
  {
   "cell_type": "code",
   "execution_count": null,
   "id": "f9e8e2bb",
   "metadata": {},
   "outputs": [],
   "source": []
  },
  {
   "cell_type": "code",
   "execution_count": null,
   "id": "6d547383",
   "metadata": {},
   "outputs": [],
   "source": []
  },
  {
   "cell_type": "code",
   "execution_count": null,
   "id": "938a1b5c",
   "metadata": {},
   "outputs": [],
   "source": []
  },
  {
   "cell_type": "code",
   "execution_count": null,
   "id": "319d20dc",
   "metadata": {},
   "outputs": [],
   "source": []
  }
 ],
 "metadata": {
  "kernelspec": {
   "display_name": "Julia 1.6.2",
   "language": "julia",
   "name": "julia-1.6"
  },
  "language_info": {
   "file_extension": ".jl",
   "mimetype": "application/julia",
   "name": "julia",
   "version": "1.6.2"
  }
 },
 "nbformat": 4,
 "nbformat_minor": 5
}
