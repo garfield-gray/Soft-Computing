{
  "nbformat": 4,
  "nbformat_minor": 0,
  "metadata": {
    "colab": {
      "provenance": [],
      "authorship_tag": "ABX9TyNUaGo7lHOloobBH20AbUFD",
      "include_colab_link": true
    },
    "kernelspec": {
      "name": "python3",
      "display_name": "Python 3"
    },
    "language_info": {
      "name": "python"
    }
  },
  "cells": [
    {
      "cell_type": "markdown",
      "metadata": {
        "id": "view-in-github",
        "colab_type": "text"
      },
      "source": [
        "<a href=\"https://colab.research.google.com/github/garfield-gray/Soft-Computing/blob/main/Metaheuristic.ipynb\" target=\"_parent\"><img src=\"https://colab.research.google.com/assets/colab-badge.svg\" alt=\"Open In Colab\"/></a>"
      ]
    },
    {
      "cell_type": "code",
      "execution_count": null,
      "metadata": {
        "id": "G8oNaEhL1XX5"
      },
      "outputs": [],
      "source": [
        "import numpy as np"
      ]
    },
    {
      "cell_type": "code",
      "source": [
        "from scipy import optimize"
      ],
      "metadata": {
        "id": "ShrPgo6w1fmw"
      },
      "execution_count": null,
      "outputs": []
    },
    {
      "cell_type": "code",
      "source": [
        "f = lambda x: x[0]**2 + x[1]**2"
      ],
      "metadata": {
        "id": "LmMiIuiU1toS"
      },
      "execution_count": null,
      "outputs": []
    },
    {
      "cell_type": "code",
      "source": [
        "minimum = optimize.fmin(f, x0 = np.array([1,2]), full_output=1,retall = 1 )"
      ],
      "metadata": {
        "colab": {
          "base_uri": "https://localhost:8080/"
        },
        "id": "np4uxnDi1-k8",
        "outputId": "26f73dca-3f60-4ede-ff05-525eafb6151e"
      },
      "execution_count": null,
      "outputs": [
        {
          "output_type": "stream",
          "name": "stdout",
          "text": [
            "Optimization terminated successfully.\n",
            "         Current function value: 0.000000\n",
            "         Iterations: 43\n",
            "         Function evaluations: 82\n"
          ]
        }
      ]
    },
    {
      "cell_type": "code",
      "source": [],
      "metadata": {
        "colab": {
          "base_uri": "https://localhost:8080/"
        },
        "id": "2LgNTUrB2Fc6",
        "outputId": "426ee09e-326e-43c3-fb2f-c4a48cd77d34"
      },
      "execution_count": null,
      "outputs": [
        {
          "output_type": "execute_result",
          "data": {
            "text/plain": [
              "5"
            ]
          },
          "metadata": {},
          "execution_count": 13
        }
      ]
    },
    {
      "cell_type": "code",
      "source": [
        "minimum"
      ],
      "metadata": {
        "colab": {
          "base_uri": "https://localhost:8080/"
        },
        "id": "cRcJQLFk2vW5",
        "outputId": "145846da-7593-41f7-9868-ad4c1c7d1717"
      },
      "execution_count": null,
      "outputs": [
        {
          "output_type": "execute_result",
          "data": {
            "text/plain": [
              "(array([-3.62769110e-05, -3.03662006e-05]),\n",
              " 2.23812040658642e-09,\n",
              " 43,\n",
              " 82,\n",
              " 0,\n",
              " [array([1., 2.]),\n",
              "  array([1.075, 1.8  ]),\n",
              "  array([1.0125, 1.7   ]),\n",
              "  array([1.13125, 1.25   ]),\n",
              "  array([1.065625, 0.825   ]),\n",
              "  array([1.184375, 0.375   ]),\n",
              "  array([ 1.11875, -0.05   ]),\n",
              "  array([ 1.11875, -0.05   ]),\n",
              "  array([ 1.11875, -0.05   ]),\n",
              "  array([ 1.11875, -0.05   ]),\n",
              "  array([0.97919922, 0.03671875]),\n",
              "  array([0.97919922, 0.03671875]),\n",
              "  array([ 0.73613281, -0.2421875 ]),\n",
              "  array([0.56655273, 0.22148437]),\n",
              "  array([-0.00437012, -0.10449219]),\n",
              "  array([-0.00437012, -0.10449219]),\n",
              "  array([-0.00437012, -0.10449219]),\n",
              "  array([-0.00437012, -0.10449219]),\n",
              "  array([-0.00437012, -0.10449219]),\n",
              "  array([-0.05126953,  0.06796875]),\n",
              "  array([-0.05126953,  0.06796875]),\n",
              "  array([ 0.00706787, -0.03994141]),\n",
              "  array([ 0.03309021, -0.00236816]),\n",
              "  array([-0.01559525,  0.02340698]),\n",
              "  array([ 0.00790768, -0.014711  ]),\n",
              "  array([0.01462321, 0.00098991]),\n",
              "  array([-0.0021649 ,  0.00827322]),\n",
              "  array([-0.0021649 ,  0.00827322]),\n",
              "  array([-0.00363397,  0.00193017]),\n",
              "  array([2.08449084e-03, 3.09899449e-05]),\n",
              "  array([2.08449084e-03, 3.09899449e-05]),\n",
              "  array([-0.00131578,  0.0003064 ]),\n",
              "  array([ 0.00015235, -0.00124852]),\n",
              "  array([ 0.00075139, -0.00022004]),\n",
              "  array([-0.00043195, -0.00021394]),\n",
              "  array([0.0001634 , 0.00029878]),\n",
              "  array([ 3.08556187e-04, -8.88084450e-05]),\n",
              "  array([-9.79875180e-05, -5.44776407e-05]),\n",
              "  array([-9.79875180e-05, -5.44776407e-05]),\n",
              "  array([-9.79875180e-05, -5.44776407e-05]),\n",
              "  array([1.09216711e-05, 6.53450175e-05]),\n",
              "  array([1.09216711e-05, 6.53450175e-05]),\n",
              "  array([-3.62769110e-05, -3.03662006e-05]),\n",
              "  array([-3.62769110e-05, -3.03662006e-05])])"
            ]
          },
          "metadata": {},
          "execution_count": 25
        }
      ]
    },
    {
      "cell_type": "code",
      "source": [
        "\n",
        "PE = lambda x: np.sum([\n",
        "    0.5*(500+200*(5/3-(1))**2)*(np.sqrt((x[0]- 0)**2+(x[5]-0)**2)-10)**2, # first\n",
        "    np.sum([0.5*(500+200*(5/3-(i+2))**2)*(np.sqrt((x[i+1]-x[i])**2+(x[i+6]-x[i+5])**2)-10)**2 for i in range(4)]),\n",
        "    0.5*(500+200*(5/3-(6))**2)*(np.sqrt((60-x[4])**2+(0-x[9])**2)-10)**2,# last\n",
        "    np.sum([50*(i-4)*x[i] for i in range(5, 10)])])"
      ],
      "metadata": {
        "id": "7i44cwfE4Km0"
      },
      "execution_count": null,
      "outputs": []
    },
    {
      "cell_type": "code",
      "source": [
        "PE(np.zeros([10]))"
      ],
      "metadata": {
        "colab": {
          "base_uri": "https://localhost:8080/"
        },
        "id": "u3wfYxZNwLQW",
        "outputId": "77b6f035-65f1-4ce5-c4f8-40ca656c034c"
      },
      "execution_count": null,
      "outputs": [
        {
          "output_type": "execute_result",
          "data": {
            "text/plain": [
              "5633333.333333332"
            ]
          },
          "metadata": {},
          "execution_count": 54
        }
      ]
    },
    {
      "cell_type": "code",
      "source": [
        "minimum = optimize.fmin(PE, x0 = np.array([10, 20, 30, 40, 50, 0, 0, 0, 0, 0]),xtol=1e-7 ,ftol=1e-7,  maxiter=1e10, maxfun = 1e11)"
      ],
      "metadata": {
        "colab": {
          "base_uri": "https://localhost:8080/"
        },
        "id": "Ru7HEHbEwPcp",
        "outputId": "0fa7520c-8b99-4c88-bf5d-17e5f07c46b8"
      },
      "execution_count": null,
      "outputs": [
        {
          "output_type": "stream",
          "name": "stdout",
          "text": [
            "Optimization terminated successfully.\n",
            "         Current function value: -4416.384186\n",
            "         Iterations: 5163\n",
            "         Function evaluations: 7275\n"
          ]
        }
      ]
    },
    {
      "cell_type": "code",
      "source": [
        "minimum"
      ],
      "metadata": {
        "colab": {
          "base_uri": "https://localhost:8080/"
        },
        "id": "4cvw4uh6yRhG",
        "outputId": "48d0cf59-1e05-49ac-df88-450c357f21d6"
      },
      "execution_count": null,
      "outputs": [
        {
          "output_type": "execute_result",
          "data": {
            "text/plain": [
              "array([10.35502517, 21.08666164, 31.68693534, 42.08980433, 51.77133989,\n",
              "       -4.28005284, -7.89735979, -9.85360248, -9.39339913, -6.01179177])"
            ]
          },
          "metadata": {},
          "execution_count": 77
        }
      ]
    },
    {
      "cell_type": "code",
      "source": [
        "minimum = optimize.fmin_powell(PE, x0 = np.array([10, 20, 30, 40, 50, 0, 0, 0, 0, 0]),xtol=1e-7 ,ftol=1e-7,  maxiter=1e10, maxfun = 1e11)"
      ],
      "metadata": {
        "colab": {
          "base_uri": "https://localhost:8080/"
        },
        "id": "UHp61igryz2g",
        "outputId": "1ce2a2cb-a043-4a83-d4ec-c36961f93737"
      },
      "execution_count": null,
      "outputs": [
        {
          "output_type": "stream",
          "name": "stdout",
          "text": [
            "Optimization terminated successfully.\n",
            "         Current function value: -4416.384082\n",
            "         Iterations: 19\n",
            "         Function evaluations: 2370\n"
          ]
        }
      ]
    },
    {
      "cell_type": "code",
      "source": [
        "minimum"
      ],
      "metadata": {
        "colab": {
          "base_uri": "https://localhost:8080/"
        },
        "id": "uvsWQavkM7vP",
        "outputId": "42432fe8-6c69-464b-caf0-1722b5bfc031"
      },
      "execution_count": null,
      "outputs": [
        {
          "output_type": "execute_result",
          "data": {
            "text/plain": [
              "array([10.35498682, 21.08667339, 31.68703911, 42.08962064, 51.77133696,\n",
              "       -4.27972854, -7.89696355, -9.85335753, -9.39325675, -6.01184043])"
            ]
          },
          "metadata": {},
          "execution_count": 79
        }
      ]
    },
    {
      "cell_type": "code",
      "source": [
        "# import sympy\n",
        "from sympy import *\n",
        "\n",
        "x, y = symbols('x y')\n",
        "expr = (1/2)*8*((x**2+(10-y)**2)**0.5-10)**2 + (1/2)*((x**2+(10+y)**2)**0.5-10)**2 -5*x -5*y\n",
        "print(\"Expression : {}\".format(expr))\n",
        "\n",
        "# Use sympy.Derivative() method\n",
        "expr_diff = Derivative(expr, x)\n",
        "\n",
        "print(\"Derivative of expression with respect to x : {}\".format(expr_diff))\n",
        "print(\"Value of the derivative : {}\".format(expr_diff.doit()))\n",
        "f = lambdify([x, y], expr_diff.doit())\n",
        "print(f(8.632,4.5319))\n",
        "expr_diff.doit()"
      ],
      "metadata": {
        "id": "1GdJQj_fNAXq",
        "colab": {
          "base_uri": "https://localhost:8080/",
          "height": 186
        },
        "outputId": "0795e481-386f-4923-9a6b-0977a4ade41d"
      },
      "execution_count": 1,
      "outputs": [
        {
          "output_type": "stream",
          "name": "stdout",
          "text": [
            "Expression : -5*x - 5*y + 4.0*((x**2 + (10 - y)**2)**0.5 - 10)**2 + 0.5*((x**2 + (y + 10)**2)**0.5 - 10)**2\n",
            "Derivative of expression with respect to x : Derivative(-5*x - 5*y + 4.0*((x**2 + (10 - y)**2)**0.5 - 10)**2 + 0.5*((x**2 + (y + 10)**2)**0.5 - 10)**2, x)\n",
            "Value of the derivative : 8.0*x*((x**2 + (10 - y)**2)**0.5 - 10)/(x**2 + (10 - y)**2)**0.5 + 1.0*x*((x**2 + (y + 10)**2)**0.5 - 10)/(x**2 + (y + 10)**2)**0.5 - 5\n",
            "-0.00039603777435281984\n"
          ]
        },
        {
          "output_type": "execute_result",
          "data": {
            "text/plain": [
              "8.0*x*((x**2 + (10 - y)**2)**0.5 - 10)/(x**2 + (10 - y)**2)**0.5 + 1.0*x*((x**2 + (y + 10)**2)**0.5 - 10)/(x**2 + (y + 10)**2)**0.5 - 5"
            ],
            "text/latex": "$\\displaystyle \\frac{8.0 x \\left(\\left(x^{2} + \\left(10 - y\\right)^{2}\\right)^{0.5} - 10\\right)}{\\left(x^{2} + \\left(10 - y\\right)^{2}\\right)^{0.5}} + \\frac{1.0 x \\left(\\left(x^{2} + \\left(y + 10\\right)^{2}\\right)^{0.5} - 10\\right)}{\\left(x^{2} + \\left(y + 10\\right)^{2}\\right)^{0.5}} - 5$"
          },
          "metadata": {},
          "execution_count": 1
        }
      ]
    },
    {
      "cell_type": "code",
      "source": [
        "# import sympy\n",
        "from sympy import *\n",
        "\n",
        "x, y = symbols('x y')\n",
        "expr = (1/2)*8*((x**2+(10-y)**2)**0.5-10)**2 + (1/2)*((x**2+(10+y)**2)**0.5-10)**2 -5*x -5*y\n",
        "print(\"Expression : {}\".format(expr))\n",
        "\n",
        "# Use sympy.Derivative() method\n",
        "expr_diff = Derivative(expr, y)\n",
        "\n",
        "print(\"Derivative of expression with respect to x : {}\".format(expr_diff))\n",
        "print(\"Value of the derivative : {}\".format(expr_diff.doit()))\n",
        "g = lambdify([x, y], expr_diff.doit())\n",
        "print(g(8.632,4.5319))\n",
        "expr_diff.doit()"
      ],
      "metadata": {
        "colab": {
          "base_uri": "https://localhost:8080/",
          "height": 186
        },
        "id": "g4AJSFB96BFW",
        "outputId": "3fbc832c-e400-4c8f-fa73-1c115ec0fb7e"
      },
      "execution_count": 2,
      "outputs": [
        {
          "output_type": "stream",
          "name": "stdout",
          "text": [
            "Expression : -5*x - 5*y + 4.0*((x**2 + (10 - y)**2)**0.5 - 10)**2 + 0.5*((x**2 + (y + 10)**2)**0.5 - 10)**2\n",
            "Derivative of expression with respect to x : Derivative(-5*x - 5*y + 4.0*((x**2 + (10 - y)**2)**0.5 - 10)**2 + 0.5*((x**2 + (y + 10)**2)**0.5 - 10)**2, y)\n",
            "Value of the derivative : 8.0*(1.0*y - 10.0)*((x**2 + (10 - y)**2)**0.5 - 10)/(x**2 + (10 - y)**2)**0.5 + 1.0*(1.0*y + 10.0)*((x**2 + (y + 10)**2)**0.5 - 10)/(x**2 + (y + 10)**2)**0.5 - 5\n",
            "0.00019505477054426734\n"
          ]
        },
        {
          "output_type": "execute_result",
          "data": {
            "text/plain": [
              "8.0*(1.0*y - 10.0)*((x**2 + (10 - y)**2)**0.5 - 10)/(x**2 + (10 - y)**2)**0.5 + 1.0*(1.0*y + 10.0)*((x**2 + (y + 10)**2)**0.5 - 10)/(x**2 + (y + 10)**2)**0.5 - 5"
            ],
            "text/latex": "$\\displaystyle \\frac{8.0 \\cdot \\left(1.0 y - 10.0\\right) \\left(\\left(x^{2} + \\left(10 - y\\right)^{2}\\right)^{0.5} - 10\\right)}{\\left(x^{2} + \\left(10 - y\\right)^{2}\\right)^{0.5}} + \\frac{1.0 \\cdot \\left(1.0 y + 10.0\\right) \\left(\\left(x^{2} + \\left(y + 10\\right)^{2}\\right)^{0.5} - 10\\right)}{\\left(x^{2} + \\left(y + 10\\right)^{2}\\right)^{0.5}} - 5$"
          },
          "metadata": {},
          "execution_count": 2
        }
      ]
    },
    {
      "cell_type": "code",
      "source": [
        "def F(X):\n",
        "  x = X[0]\n",
        "  y = X[1]\n",
        "  return f(x,y)**2 + g(x,y)**2\n",
        "\n",
        "from scipy import optimize\n",
        "\n",
        "minimum = optimize.fmin(F, [8, 4])\n",
        "minimum"
      ],
      "metadata": {
        "colab": {
          "base_uri": "https://localhost:8080/"
        },
        "id": "iNQCe26q6FRw",
        "outputId": "59907890-8410-4888-b666-627967c6f2df"
      },
      "execution_count": 3,
      "outputs": [
        {
          "output_type": "stream",
          "name": "stdout",
          "text": [
            "Optimization terminated successfully.\n",
            "         Current function value: 0.000000\n",
            "         Iterations: 52\n",
            "         Function evaluations: 101\n"
          ]
        },
        {
          "output_type": "execute_result",
          "data": {
            "text/plain": [
              "array([8.63204955, 4.53189251])"
            ]
          },
          "metadata": {},
          "execution_count": 3
        }
      ]
    },
    {
      "cell_type": "code",
      "source": [
        "import numpy as np\n",
        "minimum = optimize.fmin(F, x0 = np.array([10, 9]),xtol=1e-7 ,ftol=1e-7,  maxiter=1e10, maxfun = 1e11)\n",
        "minimum"
      ],
      "metadata": {
        "colab": {
          "base_uri": "https://localhost:8080/"
        },
        "id": "3m30TP9P6K7W",
        "outputId": "e3ff505b-1f55-48e9-d6af-80ce2e8990c1"
      },
      "execution_count": 6,
      "outputs": [
        {
          "output_type": "stream",
          "name": "stdout",
          "text": [
            "Optimization terminated successfully.\n",
            "         Current function value: 0.000000\n",
            "         Iterations: 65\n",
            "         Function evaluations: 126\n"
          ]
        },
        {
          "output_type": "execute_result",
          "data": {
            "text/plain": [
              "array([8.63206613, 4.5319067 ])"
            ]
          },
          "metadata": {},
          "execution_count": 6
        }
      ]
    },
    {
      "cell_type": "code",
      "source": [],
      "metadata": {
        "id": "zaBiddsl6fC1"
      },
      "execution_count": null,
      "outputs": []
    }
  ]
}