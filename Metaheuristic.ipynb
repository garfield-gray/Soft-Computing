{
  "nbformat": 4,
  "nbformat_minor": 0,
  "metadata": {
    "colab": {
      "provenance": [],
      "authorship_tag": "ABX9TyPqKKKXuwhtwg7z5ed1Uyxp",
      "include_colab_link": true
    },
    "kernelspec": {
      "name": "python3",
      "display_name": "Python 3"
    },
    "language_info": {
      "name": "python"
    }
  },
  "cells": [
    {
      "cell_type": "markdown",
      "metadata": {
        "id": "view-in-github",
        "colab_type": "text"
      },
      "source": [
        "<a href=\"https://colab.research.google.com/github/garfield-gray/Soft-Computing/blob/main/Metaheuristic.ipynb\" target=\"_parent\"><img src=\"https://colab.research.google.com/assets/colab-badge.svg\" alt=\"Open In Colab\"/></a>"
      ]
    },
    {
      "cell_type": "code",
      "execution_count": 1,
      "metadata": {
        "id": "G8oNaEhL1XX5"
      },
      "outputs": [],
      "source": [
        "import numpy as np"
      ]
    },
    {
      "cell_type": "code",
      "source": [
        "from scipy import optimize"
      ],
      "metadata": {
        "id": "ShrPgo6w1fmw"
      },
      "execution_count": 2,
      "outputs": []
    },
    {
      "cell_type": "code",
      "source": [
        "f = lambda x: x[0]**2 + x[1]**2"
      ],
      "metadata": {
        "id": "LmMiIuiU1toS"
      },
      "execution_count": 23,
      "outputs": []
    },
    {
      "cell_type": "code",
      "source": [
        "minimum = optimize.fmin(f, x0 = np.array([1,2]), full_output=1,retall = 1 )"
      ],
      "metadata": {
        "colab": {
          "base_uri": "https://localhost:8080/"
        },
        "id": "np4uxnDi1-k8",
        "outputId": "26f73dca-3f60-4ede-ff05-525eafb6151e"
      },
      "execution_count": 24,
      "outputs": [
        {
          "output_type": "stream",
          "name": "stdout",
          "text": [
            "Optimization terminated successfully.\n",
            "         Current function value: 0.000000\n",
            "         Iterations: 43\n",
            "         Function evaluations: 82\n"
          ]
        }
      ]
    },
    {
      "cell_type": "code",
      "source": [],
      "metadata": {
        "colab": {
          "base_uri": "https://localhost:8080/"
        },
        "id": "2LgNTUrB2Fc6",
        "outputId": "426ee09e-326e-43c3-fb2f-c4a48cd77d34"
      },
      "execution_count": 13,
      "outputs": [
        {
          "output_type": "execute_result",
          "data": {
            "text/plain": [
              "5"
            ]
          },
          "metadata": {},
          "execution_count": 13
        }
      ]
    },
    {
      "cell_type": "code",
      "source": [
        "minimum"
      ],
      "metadata": {
        "colab": {
          "base_uri": "https://localhost:8080/"
        },
        "id": "cRcJQLFk2vW5",
        "outputId": "145846da-7593-41f7-9868-ad4c1c7d1717"
      },
      "execution_count": 25,
      "outputs": [
        {
          "output_type": "execute_result",
          "data": {
            "text/plain": [
              "(array([-3.62769110e-05, -3.03662006e-05]),\n",
              " 2.23812040658642e-09,\n",
              " 43,\n",
              " 82,\n",
              " 0,\n",
              " [array([1., 2.]),\n",
              "  array([1.075, 1.8  ]),\n",
              "  array([1.0125, 1.7   ]),\n",
              "  array([1.13125, 1.25   ]),\n",
              "  array([1.065625, 0.825   ]),\n",
              "  array([1.184375, 0.375   ]),\n",
              "  array([ 1.11875, -0.05   ]),\n",
              "  array([ 1.11875, -0.05   ]),\n",
              "  array([ 1.11875, -0.05   ]),\n",
              "  array([ 1.11875, -0.05   ]),\n",
              "  array([0.97919922, 0.03671875]),\n",
              "  array([0.97919922, 0.03671875]),\n",
              "  array([ 0.73613281, -0.2421875 ]),\n",
              "  array([0.56655273, 0.22148437]),\n",
              "  array([-0.00437012, -0.10449219]),\n",
              "  array([-0.00437012, -0.10449219]),\n",
              "  array([-0.00437012, -0.10449219]),\n",
              "  array([-0.00437012, -0.10449219]),\n",
              "  array([-0.00437012, -0.10449219]),\n",
              "  array([-0.05126953,  0.06796875]),\n",
              "  array([-0.05126953,  0.06796875]),\n",
              "  array([ 0.00706787, -0.03994141]),\n",
              "  array([ 0.03309021, -0.00236816]),\n",
              "  array([-0.01559525,  0.02340698]),\n",
              "  array([ 0.00790768, -0.014711  ]),\n",
              "  array([0.01462321, 0.00098991]),\n",
              "  array([-0.0021649 ,  0.00827322]),\n",
              "  array([-0.0021649 ,  0.00827322]),\n",
              "  array([-0.00363397,  0.00193017]),\n",
              "  array([2.08449084e-03, 3.09899449e-05]),\n",
              "  array([2.08449084e-03, 3.09899449e-05]),\n",
              "  array([-0.00131578,  0.0003064 ]),\n",
              "  array([ 0.00015235, -0.00124852]),\n",
              "  array([ 0.00075139, -0.00022004]),\n",
              "  array([-0.00043195, -0.00021394]),\n",
              "  array([0.0001634 , 0.00029878]),\n",
              "  array([ 3.08556187e-04, -8.88084450e-05]),\n",
              "  array([-9.79875180e-05, -5.44776407e-05]),\n",
              "  array([-9.79875180e-05, -5.44776407e-05]),\n",
              "  array([-9.79875180e-05, -5.44776407e-05]),\n",
              "  array([1.09216711e-05, 6.53450175e-05]),\n",
              "  array([1.09216711e-05, 6.53450175e-05]),\n",
              "  array([-3.62769110e-05, -3.03662006e-05]),\n",
              "  array([-3.62769110e-05, -3.03662006e-05])])"
            ]
          },
          "metadata": {},
          "execution_count": 25
        }
      ]
    },
    {
      "cell_type": "code",
      "source": [],
      "metadata": {
        "id": "7i44cwfE4Km0"
      },
      "execution_count": null,
      "outputs": []
    }
  ]
}