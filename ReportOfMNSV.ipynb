{
  "nbformat": 4,
  "nbformat_minor": 0,
  "metadata": {
    "colab": {
      "provenance": [],
      "authorship_tag": "ABX9TyMGmp/b3mHRQC98OgSZUjwN",
      "include_colab_link": true
    },
    "kernelspec": {
      "name": "python3",
      "display_name": "Python 3"
    },
    "language_info": {
      "name": "python"
    }
  },
  "cells": [
    {
      "cell_type": "markdown",
      "metadata": {
        "id": "view-in-github",
        "colab_type": "text"
      },
      "source": [
        "<a href=\"https://colab.research.google.com/github/garfield-gray/Soft-Computing/blob/main/ReportOfMNSV.ipynb\" target=\"_parent\"><img src=\"https://colab.research.google.com/assets/colab-badge.svg\" alt=\"Open In Colab\"/></a>"
      ]
    },
    {
      "cell_type": "markdown",
      "source": [
        "In the Name Of God"
      ],
      "metadata": {
        "id": "Nm7Ev9zDcJnZ"
      }
    },
    {
      "cell_type": "markdown",
      "source": [],
      "metadata": {
        "id": "s1BxwDv8cfFo"
      }
    },
    {
      "cell_type": "code",
      "source": [
        "# importing the requirements\n",
        "import numpy as np\n",
        "import time\n",
        "import scipy as sp\n",
        "import matplotlib.pyplot as plt"
      ],
      "metadata": {
        "id": "9b93Bhp4cfpY"
      },
      "execution_count": 1,
      "outputs": []
    },
    {
      "cell_type": "markdown",
      "source": [
        "# The raw Form"
      ],
      "metadata": {
        "id": "jzcXLYVYcRqQ"
      }
    },
    {
      "cell_type": "markdown",
      "source": [
        "## Mathematical Benchmarks"
      ],
      "metadata": {
        "id": "6EX6ufHAc2gv"
      }
    },
    {
      "cell_type": "markdown",
      "source": [
        "### Functions"
      ],
      "metadata": {
        "id": "M5yNDBkRdL1N"
      }
    },
    {
      "cell_type": "code",
      "execution_count": 9,
      "metadata": {
        "id": "ya9nuLUKcFuM"
      },
      "outputs": [],
      "source": [
        "# RastRigin\n",
        "# min in (-5, -5)\n",
        "ObjF_S1 = lambda x: np.power(x[:,0]+5,2) + np.power(x[:,1]+5,2) -10*np.cos(2*np.pi*x[:,0]) -10*np.cos(2*np.pi*x[:,1]) + 20\n",
        "# Bukin Function\n",
        "# min in (-10, 1)\n",
        "ObjF_S2 = lambda x: 100*np.power(np.abs(x[:,1]-0.01*np.power(x[:,0], 2)),0.5)+0.01*np.abs(x[:,0]+10)\n",
        "# Rosenbrock\n",
        "# min in (1, 1)\n",
        "ObjF_S3 = lambda x: 100*np.power(x[:,1]-np.power(x[:,0], 2), 2) + np.power((1-x[:,0]), 2)\n",
        "# Beale\n",
        "# min in (3, 0,5)\n",
        "ObjF_S4 = lambda x: np.power(1.5-x[:,0]+x[:,0]*x[:,1], 2) + np.power(2.25-x[:,0]+x[:,0]*np.power(x[:,1], 2), 2) + np.power(2.625-x[:,0]+x[:,0]*np.power(x[:,1], 3), 2)\n"
      ]
    },
    {
      "cell_type": "markdown",
      "source": [
        "### the implementation"
      ],
      "metadata": {
        "id": "jM0JmdkNeLyw"
      }
    },
    {
      "cell_type": "code",
      "source": [
        "# MNSV_S1_1.m\n",
        "\n",
        "import numpy as np\n",
        "import matplotlib.pyplot as plt\n",
        "\n",
        "\n",
        "t1 = time.time()\n",
        "# Define MNSV Parameters\n",
        "N = 2                     # Number of variables\n",
        "NS = 10                    # Number of samples\n",
        "MAXIT = 40                # Maximum Number of iterations\n",
        "OBJ_F = ObjF_S2           # Name of objective function\n",
        "R = np.array([[-10, 10], [-10, 10]])  # Bounds on decision variables\n",
        "Best = []\n",
        "xb = []\n",
        "\n",
        "# Initialization\n",
        "NP = NS * (NS + 3) // 2\n",
        "# R1 = np.tile(R[0, :], (NP, 1))\n",
        "# R2 = np.tile(R[1, :], (NP, 1))\n",
        "x = np.random.uniform(R[0, 0], R[0, 1], (NP, 2))\n",
        "f = OBJ_F(x)                   #evaluation\n",
        "for it in range(MAXIT):\n",
        "  ind = np.argsort(f)\n",
        "  x = x[ind[:NS]]                                         # choosing the best points\n",
        "  a = np.power(0.3, (it/MAXIT))\n",
        "  z = a*np.cov(x.T)\n",
        "  for i in range(NS):\n",
        "    x = np.append(x, np.random.multivariate_normal(x[i], z, (NS-i)), axis=0)  # appending new points\n",
        "  x = np.minimum(np.maximum(x, R[:,0]), R[:,1])     # making sure we're in right bounderies\n",
        "  f = OBJ_F(x)                     #evaluation\n",
        "  xb.append(x[np.argmin(f)])  #save the best\n",
        "  Best.append(np.min(f))\n",
        "  #plot\n",
        "t2 = time.time()\n",
        "print(t2-t1)"
      ],
      "metadata": {
        "colab": {
          "base_uri": "https://localhost:8080/"
        },
        "id": "8Mm_f88hdPqW",
        "outputId": "fd6a604c-0640-48ed-e70d-1427a63ff6bd"
      },
      "execution_count": 16,
      "outputs": [
        {
          "output_type": "stream",
          "name": "stdout",
          "text": [
            "0.05082964897155762\n"
          ]
        }
      ]
    },
    {
      "cell_type": "code",
      "source": [
        "xb"
      ],
      "metadata": {
        "colab": {
          "base_uri": "https://localhost:8080/"
        },
        "id": "bDLCu_H7edSm",
        "outputId": "ba52807e-6a07-41f0-e57f-b4fa9c075a96"
      },
      "execution_count": 17,
      "outputs": [
        {
          "output_type": "execute_result",
          "data": {
            "text/plain": [
              "[array([1.21833392, 0.00802327]),\n",
              " array([-1.09656228,  0.01101782]),\n",
              " array([-1.09656228,  0.01101782]),\n",
              " array([-1.09656228,  0.01101782]),\n",
              " array([-0.60696726,  0.00417371]),\n",
              " array([-0.60696726,  0.00417371]),\n",
              " array([-0.99211324,  0.00983948]),\n",
              " array([-0.99211324,  0.00983948]),\n",
              " array([-0.99211324,  0.00983948]),\n",
              " array([-0.99211324,  0.00983948]),\n",
              " array([-0.99211324,  0.00983948]),\n",
              " array([-0.99211324,  0.00983948]),\n",
              " array([-0.99211324,  0.00983948]),\n",
              " array([-0.99211324,  0.00983948]),\n",
              " array([-0.99211324,  0.00983948]),\n",
              " array([-0.99211324,  0.00983948]),\n",
              " array([-0.99211324,  0.00983948]),\n",
              " array([-0.99211324,  0.00983948]),\n",
              " array([-0.99211324,  0.00983948]),\n",
              " array([-0.99211324,  0.00983948]),\n",
              " array([-0.99211324,  0.00983948]),\n",
              " array([-0.99211324,  0.00983948]),\n",
              " array([-0.99211324,  0.00983948]),\n",
              " array([-0.99211324,  0.00983948]),\n",
              " array([-0.99211324,  0.00983948]),\n",
              " array([-0.99211324,  0.00983948]),\n",
              " array([-0.99211324,  0.00983948]),\n",
              " array([-0.99211324,  0.00983948]),\n",
              " array([-0.99211324,  0.00983948]),\n",
              " array([-0.99211324,  0.00983948]),\n",
              " array([-0.99211324,  0.00983948]),\n",
              " array([-0.99211324,  0.00983948]),\n",
              " array([-0.99211324,  0.00983948]),\n",
              " array([-0.99211324,  0.00983948]),\n",
              " array([-0.99211324,  0.00983948]),\n",
              " array([-0.99211324,  0.00983948]),\n",
              " array([-0.99211324,  0.00983948]),\n",
              " array([-0.99211324,  0.00983948]),\n",
              " array([-0.99211324,  0.00983948]),\n",
              " array([-0.99211324,  0.00983948])]"
            ]
          },
          "metadata": {},
          "execution_count": 17
        }
      ]
    },
    {
      "cell_type": "code",
      "source": [],
      "metadata": {
        "id": "duc2ibzXef1M"
      },
      "execution_count": null,
      "outputs": []
    },
    {
      "cell_type": "code",
      "source": [],
      "metadata": {
        "id": "Qsr57QhrfUuf"
      },
      "execution_count": null,
      "outputs": []
    },
    {
      "cell_type": "markdown",
      "source": [
        "# Modifications"
      ],
      "metadata": {
        "id": "u8p_DK2NfVZn"
      }
    },
    {
      "cell_type": "markdown",
      "source": [
        "## Covariance based on function"
      ],
      "metadata": {
        "id": "OncEHw9vfkRr"
      }
    },
    {
      "cell_type": "code",
      "source": [
        "# MNSV_S1_1.m\n",
        "\n",
        "import numpy as np\n",
        "import matplotlib.pyplot as plt\n",
        "\n",
        "\n",
        "t1 = time.time()\n",
        "# Define MNSV Parameters\n",
        "N = 2                     # Number of variables\n",
        "NS = 10                    # Number of samples\n",
        "MAXIT = 40                # Maximum Number of iterations\n",
        "OBJ_F = ObjF_S1           # Name of objective function\n",
        "R = np.array([[-10, 10], [-10, 10]])  # Bounds on decision variables\n",
        "Best = []\n",
        "xb = []\n",
        "\n",
        "# Initialization\n",
        "NP = NS * (NS + 3) // 2\n",
        "# R1 = np.tile(R[0, :], (NP, 1))\n",
        "# R2 = np.tile(R[1, :], (NP, 1))\n",
        "x = np.random.uniform(R[0, 0], R[0, 1], (NP, 2))\n",
        "f = OBJ_F(x)                   #evaluation\n",
        "for it in range(MAXIT):\n",
        "  ind = np.argsort(f)\n",
        "  x = x[ind[:NS]]                                         # choosing the best points\n",
        "  a = np.power(0.3, (it/MAXIT))\n",
        "  z = a*np.cov(x.T)\n",
        "  for i in range(NS):\n",
        "    x = np.append(x, np.random.multivariate_normal(x[i], z, (NS-i)), axis=0)  # appending new points\n",
        "  x = np.minimum(np.maximum(x, R[:,0]), R[:,1])     # making sure we're in right bounderies\n",
        "  f = OBJ_F(x)                     #evaluation\n",
        "  xb.append(x[np.argmin(f)])  #save the best\n",
        "  Best.append(np.min(f))\n",
        "  #plot\n",
        "t2 = time.time()\n",
        "print(t2-t1)"
      ],
      "metadata": {
        "colab": {
          "base_uri": "https://localhost:8080/"
        },
        "id": "Ot9urwtSfiDA",
        "outputId": "24410a38-4696-405f-a9ef-4beeeb71a6a4"
      },
      "execution_count": 21,
      "outputs": [
        {
          "output_type": "stream",
          "name": "stdout",
          "text": [
            "0.04343152046203613\n"
          ]
        }
      ]
    },
    {
      "cell_type": "code",
      "source": [
        "xb"
      ],
      "metadata": {
        "colab": {
          "base_uri": "https://localhost:8080/"
        },
        "id": "0OCsyQBrf2IO",
        "outputId": "baac6d70-53a5-41bd-9829-385e6165518e"
      },
      "execution_count": 22,
      "outputs": [
        {
          "output_type": "execute_result",
          "data": {
            "text/plain": [
              "[array([-5.13532229, -5.00202435]),\n",
              " array([-4.99284703, -4.98523821]),\n",
              " array([-4.99284703, -4.98523821]),\n",
              " array([-4.99284703, -4.98523821]),\n",
              " array([-4.99284703, -4.98523821]),\n",
              " array([-4.99284703, -4.98523821]),\n",
              " array([-4.99284703, -4.98523821]),\n",
              " array([-4.99284703, -4.98523821]),\n",
              " array([-4.99284703, -4.98523821]),\n",
              " array([-4.99284703, -4.98523821]),\n",
              " array([-4.99284703, -4.98523821]),\n",
              " array([-4.99284703, -4.98523821]),\n",
              " array([-4.99659787, -4.98796022]),\n",
              " array([-4.99855898, -5.0034141 ]),\n",
              " array([-5.00064652, -4.99892548]),\n",
              " array([-5.00064652, -4.99892548]),\n",
              " array([-5.00006542, -4.9995854 ]),\n",
              " array([-5.00005358, -4.99993323]),\n",
              " array([-4.99997262, -4.99994028]),\n",
              " array([-4.99999474, -4.99998426]),\n",
              " array([-4.99999851, -4.99999026]),\n",
              " array([-5.00000083, -4.99999533]),\n",
              " array([-5.00000052, -4.99999748]),\n",
              " array([-5.00000009, -4.9999992 ]),\n",
              " array([-5.00000001, -4.99999972]),\n",
              " array([-4.99999991, -4.99999991]),\n",
              " array([-5.00000003, -4.99999991]),\n",
              " array([-5.00000003, -4.99999995]),\n",
              " array([-5.00000002, -4.99999996]),\n",
              " array([-5.00000003, -4.99999997]),\n",
              " array([-5.00000002, -4.99999997]),\n",
              " array([-5.00000002, -4.99999997]),\n",
              " array([-5.00000002, -4.99999997]),\n",
              " array([-5.00000002, -4.99999997]),\n",
              " array([-5.00000002, -4.99999997]),\n",
              " array([-5.00000002, -4.99999997]),\n",
              " array([-5.00000002, -4.99999997]),\n",
              " array([-5.00000002, -4.99999997]),\n",
              " array([-5.00000002, -4.99999997]),\n",
              " array([-5.00000002, -4.99999997])]"
            ]
          },
          "metadata": {},
          "execution_count": 22
        }
      ]
    },
    {
      "cell_type": "code",
      "source": [],
      "metadata": {
        "id": "yt59UawNi_zW"
      },
      "execution_count": null,
      "outputs": []
    },
    {
      "cell_type": "code",
      "source": [],
      "metadata": {
        "id": "t1N0Wscbf4F7"
      },
      "execution_count": null,
      "outputs": []
    }
  ]
}