{
  "nbformat": 4,
  "nbformat_minor": 0,
  "metadata": {
    "colab": {
      "provenance": [],
      "authorship_tag": "ABX9TyNHYNzC3iVca1p/gV99h1L3",
      "include_colab_link": true
    },
    "kernelspec": {
      "name": "python3",
      "display_name": "Python 3"
    },
    "language_info": {
      "name": "python"
    }
  },
  "cells": [
    {
      "cell_type": "markdown",
      "metadata": {
        "id": "view-in-github",
        "colab_type": "text"
      },
      "source": [
        "<a href=\"https://colab.research.google.com/github/garfield-gray/Soft-Computing/blob/main/ReportOfMNSV.ipynb\" target=\"_parent\"><img src=\"https://colab.research.google.com/assets/colab-badge.svg\" alt=\"Open In Colab\"/></a>"
      ]
    },
    {
      "cell_type": "markdown",
      "source": [
        "In the Name Of God"
      ],
      "metadata": {
        "id": "Nm7Ev9zDcJnZ"
      }
    },
    {
      "cell_type": "markdown",
      "source": [],
      "metadata": {
        "id": "s1BxwDv8cfFo"
      }
    },
    {
      "cell_type": "code",
      "source": [
        "# importing the requirements\n",
        "import numpy as np\n",
        "import time\n",
        "import scipy as sp\n",
        "import matplotlib.pyplot as plt"
      ],
      "metadata": {
        "id": "9b93Bhp4cfpY"
      },
      "execution_count": 160,
      "outputs": []
    },
    {
      "cell_type": "markdown",
      "source": [
        "# The raw Form"
      ],
      "metadata": {
        "id": "jzcXLYVYcRqQ"
      }
    },
    {
      "cell_type": "markdown",
      "source": [
        "## Mathematical Benchmarks"
      ],
      "metadata": {
        "id": "6EX6ufHAc2gv"
      }
    },
    {
      "cell_type": "markdown",
      "source": [
        "### Functions"
      ],
      "metadata": {
        "id": "M5yNDBkRdL1N"
      }
    },
    {
      "cell_type": "code",
      "execution_count": 27,
      "metadata": {
        "id": "ya9nuLUKcFuM"
      },
      "outputs": [],
      "source": [
        "# RastRigin\n",
        "# min in (-5, -5)\n",
        "ObjF_S1 = lambda x: np.power(x[:,0]+5,2) + np.power(x[:,1]+5,2) -10*np.cos(2*np.pi*x[:,0]) -10*np.cos(2*np.pi*x[:,1]) + 20\n",
        "# Bukin Function\n",
        "# min in (-10, 1)\n",
        "ObjF_S2 = lambda x: 100*np.power(np.abs(x[:,1]-0.01*np.power(x[:,0], 2)),0.5)+0.01*np.abs(x[:,0]+10)\n",
        "# Rosenbrock\n",
        "# min in (1, 1)\n",
        "ObjF_S3 = lambda x: 100*np.power(x[:,1]-np.power(x[:,0], 2), 2) + np.power((1-x[:,0]), 2)\n",
        "# Beale\n",
        "# min in (3, 0,5)\n",
        "ObjF_S4 = lambda x: np.power(1.5-x[:,0]+x[:,0]*x[:,1], 2) + np.power(2.25-x[:,0]+x[:,0]*np.power(x[:,1], 2), 2) + np.power(2.625-x[:,0]+x[:,0]*np.power(x[:,1], 3), 2)\n"
      ]
    },
    {
      "cell_type": "markdown",
      "source": [
        "### the implementation"
      ],
      "metadata": {
        "id": "jM0JmdkNeLyw"
      }
    },
    {
      "cell_type": "code",
      "source": [
        "# MNSV_S1_1.m\n",
        "\n",
        "import numpy as np\n",
        "import matplotlib.pyplot as plt\n",
        "\n",
        "\n",
        "t1 = time.time()\n",
        "# Define MNSV Parameters\n",
        "N = 2                     # Number of variables\n",
        "NS = 10                    # Number of samples\n",
        "MAXIT = 40                # Maximum Number of iterations\n",
        "OBJ_F = ObjF_S1           # Name of objective function\n",
        "R = np.array([[-10, 10], [-10, 10]])  # Bounds on decision variables\n",
        "Best = []\n",
        "xb = []\n",
        "\n",
        "# Initialization\n",
        "NP = NS * (NS + 3) // 2\n",
        "# R1 = np.tile(R[0, :], (NP, 1))\n",
        "# R2 = np.tile(R[1, :], (NP, 1))\n",
        "x = np.random.uniform(R[0, 0], R[0, 1], (NP, 2))\n",
        "f = OBJ_F(x)                   #evaluation\n",
        "for it in range(MAXIT):\n",
        "  ind = np.argsort(f)\n",
        "  x = x[ind[:NS]]                                         # choosing the best points\n",
        "  a = np.power(0.3, (it/MAXIT))\n",
        "  z = a*np.cov(x.T)\n",
        "  for i in range(NS):\n",
        "    x = np.append(x, np.random.multivariate_normal(x[i], z, (NS-i)), axis=0)  # appending new points\n",
        "  x = np.minimum(np.maximum(x, R[:,0]), R[:,1])     # making sure we're in right bounderies\n",
        "  f = OBJ_F(x)                     #evaluation\n",
        "  xb.append(x[np.argmin(f)])  #save the best\n",
        "  Best.append(np.min(f))\n",
        "  #plot\n",
        "t2 = time.time()\n",
        "print(t2-t1)"
      ],
      "metadata": {
        "colab": {
          "base_uri": "https://localhost:8080/"
        },
        "id": "8Mm_f88hdPqW",
        "outputId": "04f950be-821c-40e3-dbc4-5cd95e1f6ed1"
      },
      "execution_count": 155,
      "outputs": [
        {
          "output_type": "stream",
          "name": "stdout",
          "text": [
            "0.05134391784667969\n"
          ]
        }
      ]
    },
    {
      "cell_type": "code",
      "source": [
        "xb"
      ],
      "metadata": {
        "colab": {
          "base_uri": "https://localhost:8080/"
        },
        "id": "bDLCu_H7edSm",
        "outputId": "00294253-142d-4123-b7de-debe28efb14a"
      },
      "execution_count": 156,
      "outputs": [
        {
          "output_type": "execute_result",
          "data": {
            "text/plain": [
              "[array([-4.87065907, -3.00692228]),\n",
              " array([-4.87065907, -3.00692228]),\n",
              " array([-4.0338046 , -5.01744499]),\n",
              " array([-4.0338046 , -5.01744499]),\n",
              " array([-4.0338046 , -5.01744499]),\n",
              " array([-4.0338046 , -5.01744499]),\n",
              " array([-4.0338046 , -5.01744499]),\n",
              " array([-4.0338046 , -5.01744499]),\n",
              " array([-4.0338046 , -5.01744499]),\n",
              " array([-4.0338046 , -5.01744499]),\n",
              " array([-4.0338046 , -5.01744499]),\n",
              " array([-4.0338046 , -5.01744499]),\n",
              " array([-4.0338046 , -5.01744499]),\n",
              " array([-4.0338046 , -5.01744499]),\n",
              " array([-4.0338046 , -5.01744499]),\n",
              " array([-4.0338046 , -5.01744499]),\n",
              " array([-4.98891312, -6.0109768 ]),\n",
              " array([-5.06147135, -4.96390143]),\n",
              " array([-5.06147135, -4.96390143]),\n",
              " array([-5.06147135, -4.96390143]),\n",
              " array([-5.06147135, -4.96390143]),\n",
              " array([-5.06147135, -4.96390143]),\n",
              " array([-5.06147135, -4.96390143]),\n",
              " array([-5.06147135, -4.96390143]),\n",
              " array([-5.06147135, -4.96390143]),\n",
              " array([-5.06147135, -4.96390143]),\n",
              " array([-4.97742992, -4.97470569]),\n",
              " array([-4.97742992, -4.97470569]),\n",
              " array([-4.97742992, -4.97470569]),\n",
              " array([-4.98091972, -4.97863999]),\n",
              " array([-5.00624271, -5.01484146]),\n",
              " array([-4.98791404, -5.00212146]),\n",
              " array([-4.99641819, -4.99739524]),\n",
              " array([-5.0017555 , -4.99960593]),\n",
              " array([-5.0001429 , -5.00050891]),\n",
              " array([-5.00026513, -4.99994607]),\n",
              " array([-4.9999469 , -5.00000934]),\n",
              " array([-4.99999951, -5.00000255]),\n",
              " array([-4.99999951, -5.00000255]),\n",
              " array([-5.00000164, -5.00000133])]"
            ]
          },
          "metadata": {},
          "execution_count": 156
        }
      ]
    },
    {
      "cell_type": "code",
      "source": [],
      "metadata": {
        "id": "duc2ibzXef1M"
      },
      "execution_count": null,
      "outputs": []
    },
    {
      "cell_type": "code",
      "source": [],
      "metadata": {
        "id": "Qsr57QhrfUuf"
      },
      "execution_count": null,
      "outputs": []
    },
    {
      "cell_type": "markdown",
      "source": [
        "# Modifications"
      ],
      "metadata": {
        "id": "u8p_DK2NfVZn"
      }
    },
    {
      "cell_type": "markdown",
      "source": [
        "## Covariance based on function"
      ],
      "metadata": {
        "id": "OncEHw9vfkRr"
      }
    },
    {
      "cell_type": "markdown",
      "source": [
        "### simple linespace"
      ],
      "metadata": {
        "id": "fkMQb77it4dN"
      }
    },
    {
      "cell_type": "code",
      "source": [
        "# MNSV_S1_1.m\n",
        "\n",
        "import numpy as np\n",
        "import matplotlib.pyplot as plt\n",
        "\n",
        "\n",
        "t1 = time.time()\n",
        "# Define MNSV Parameters\n",
        "N = 2                     # Number of variables\n",
        "NS = 10                    # Number of samples\n",
        "MAXIT = 40                # Maximum Number of iterations\n",
        "OBJ_F = ObjF_S1           # Name of objective function\n",
        "R = np.array([[-10, 10], [-10, 10]])  # Bounds on decision variables\n",
        "Best = []\n",
        "xb = []\n",
        "\n",
        "# Initialization\n",
        "NP = NS * (NS + 3) // 2\n",
        "# R1 = np.tile(R[0, :], (NP, 1))\n",
        "# R2 = np.tile(R[1, :], (NP, 1))\n",
        "x = np.random.uniform(R[0, 0], R[0, 1], (NP, 2))\n",
        "f = OBJ_F(x)                   #evaluation\n",
        "for it in range(MAXIT):\n",
        "  ind = np.argsort(f)\n",
        "  x = x[ind[:NS]]                                         # choosing the best points\n",
        "\n",
        "\n",
        "  # eval = OBJ_F(x)\n",
        "  # print(eval.T)\n",
        "  a = np.power(0.3, (it/MAXIT))\n",
        "\n",
        "  z = a*np.cov(x.T) * np.eye(N)\n",
        "  # z = a*np.cov(x.T)* np.eye(2)\n",
        "  for i, j in zip(range(NS), np.linspace(0.5, 1, NS)):\n",
        "    x = np.append(x, np.random.multivariate_normal(x[i], j*z, (NS-i)), axis=0)  # appending new points\n",
        "  x = np.minimum(np.maximum(x, R[:,0]), R[:,1])     # making sure we're in right bounderies\n",
        "  f = OBJ_F(x)                     #evaluation\n",
        "  xb.append(x[np.argmin(f)])  #save the best\n",
        "  Best.append(np.min(f))\n",
        "  #plot\n",
        "t2 = time.time()\n",
        "print(t2-t1)"
      ],
      "metadata": {
        "colab": {
          "base_uri": "https://localhost:8080/"
        },
        "id": "Ot9urwtSfiDA",
        "outputId": "806dfb33-bbdd-47c8-8642-c67f0c2462b1"
      },
      "execution_count": 157,
      "outputs": [
        {
          "output_type": "stream",
          "name": "stdout",
          "text": [
            "0.05902576446533203\n"
          ]
        }
      ]
    },
    {
      "cell_type": "code",
      "source": [
        "xb"
      ],
      "metadata": {
        "colab": {
          "base_uri": "https://localhost:8080/"
        },
        "id": "0OCsyQBrf2IO",
        "outputId": "d70f8af6-a652-4fd0-e929-57ee1c7441c4"
      },
      "execution_count": 158,
      "outputs": [
        {
          "output_type": "execute_result",
          "data": {
            "text/plain": [
              "[array([-5.1093329 , -4.98660711]),\n",
              " array([-5.1093329 , -4.98660711]),\n",
              " array([-5.1093329 , -4.98660711]),\n",
              " array([-3.9698265 , -4.94808744]),\n",
              " array([-5.00749791, -4.97851604]),\n",
              " array([-5.00749791, -4.97851604]),\n",
              " array([-5.00749791, -4.97851604]),\n",
              " array([-5.00749791, -4.97851604]),\n",
              " array([-5.00749791, -4.97851604]),\n",
              " array([-5.00707016, -4.99932733]),\n",
              " array([-4.99991403, -4.99720317]),\n",
              " array([-5.00137579, -4.99931117]),\n",
              " array([-5.00015184, -4.99948008]),\n",
              " array([-4.99997707, -4.9999641 ]),\n",
              " array([-4.99997707, -4.9999641 ]),\n",
              " array([-5.00000273, -5.00000791]),\n",
              " array([-4.99999755, -4.99999554]),\n",
              " array([-4.99999752, -5.00000026]),\n",
              " array([-5.00000028, -5.00000016]),\n",
              " array([-4.99999974, -5.00000001]),\n",
              " array([-5.00000002, -4.99999986]),\n",
              " array([-5.00000004, -4.99999996]),\n",
              " array([-5.        , -4.99999997]),\n",
              " array([-5.        , -5.00000001]),\n",
              " array([-5., -5.]),\n",
              " array([-5., -5.]),\n",
              " array([-5., -5.]),\n",
              " array([-5., -5.]),\n",
              " array([-5., -5.]),\n",
              " array([-5., -5.]),\n",
              " array([-5., -5.]),\n",
              " array([-5., -5.]),\n",
              " array([-5., -5.]),\n",
              " array([-5., -5.]),\n",
              " array([-5., -5.]),\n",
              " array([-5., -5.]),\n",
              " array([-5., -5.]),\n",
              " array([-5., -5.]),\n",
              " array([-5., -5.]),\n",
              " array([-5., -5.])]"
            ]
          },
          "metadata": {},
          "execution_count": 158
        }
      ]
    },
    {
      "cell_type": "code",
      "source": [
        "eval"
      ],
      "metadata": {
        "colab": {
          "base_uri": "https://localhost:8080/"
        },
        "id": "yt59UawNi_zW",
        "outputId": "9c7a9ed4-565b-4243-b212-d6aa778d6401"
      },
      "execution_count": 138,
      "outputs": [
        {
          "output_type": "execute_result",
          "data": {
            "text/plain": [
              "array([4.35614226e-07, 4.35620727e-07, 4.35623910e-07, 4.35629339e-07,\n",
              "       4.35631243e-07, 4.35639322e-07, 4.35648211e-07, 4.35657633e-07,\n",
              "       4.35662784e-07, 4.35665129e-07])"
            ]
          },
          "metadata": {},
          "execution_count": 138
        }
      ]
    },
    {
      "cell_type": "markdown",
      "source": [
        "### using functionvalue"
      ],
      "metadata": {
        "id": "h7sRie4st8-w"
      }
    },
    {
      "cell_type": "code",
      "source": [
        "# MNSV_S1_1.m\n",
        "\n",
        "import numpy as np\n",
        "import matplotlib.pyplot as plt\n",
        "\n",
        "\n",
        "t1 = time.time()\n",
        "# Define MNSV Parameters\n",
        "N = 2                     # Number of variables\n",
        "NS = 10                    # Number of samples\n",
        "MAXIT = 40                # Maximum Number of iterations\n",
        "OBJ_F = ObjF_S1           # Name of objective function\n",
        "R = np.array([[-10, 10], [-10, 10]])  # Bounds on decision variables\n",
        "Best = []\n",
        "xb = []\n",
        "\n",
        "# Initialization\n",
        "NP = NS * (NS + 3) // 2\n",
        "# R1 = np.tile(R[0, :], (NP, 1))\n",
        "# R2 = np.tile(R[1, :], (NP, 1))\n",
        "x = np.random.uniform(R[0, 0], R[0, 1], (NP, 2))\n",
        "f = OBJ_F(x)                   #evaluation\n",
        "for it in range(MAXIT):\n",
        "  ind = np.argsort(f)\n",
        "  x = x[ind[:NS]]                                         # choosing the best points\n",
        "\n",
        "\n",
        "  eval = OBJ_F(x)\n",
        "  # print(eval.T)\n",
        "  a = np.power(0.3, (it/MAXIT))\n",
        "\n",
        "  z = a*np.cov(x.T) * np.eye(2)\n",
        "  # z = a*np.cov(x.T)* np.eye(2)\n",
        "  covcoes =  eval/np.max(eval)                                                # Covariance Coefficients\n",
        "  for i, j in zip(range(NS), covcoes):\n",
        "    x = np.append(x, np.random.multivariate_normal(x[i], j*z, (NS-i)), axis=0)  # appending new points\n",
        "  x = np.minimum(np.maximum(x, R[:,0]), R[:,1])     # making sure we're in right bounderies\n",
        "  f = OBJ_F(x)                     #evaluation\n",
        "  xb.append(x[np.argmin(f)])  #save the best\n",
        "  Best.append(np.min(f))\n",
        "  #plot\n",
        "t2 = time.time()\n",
        "print(t2-t1)"
      ],
      "metadata": {
        "colab": {
          "base_uri": "https://localhost:8080/"
        },
        "id": "t1N0Wscbf4F7",
        "outputId": "e5f54374-89d8-4bcd-b35c-ba2588f73469"
      },
      "execution_count": 126,
      "outputs": [
        {
          "output_type": "stream",
          "name": "stdout",
          "text": [
            "0.11528968811035156\n"
          ]
        }
      ]
    },
    {
      "cell_type": "code",
      "source": [
        "xb"
      ],
      "metadata": {
        "colab": {
          "base_uri": "https://localhost:8080/"
        },
        "id": "B5ERqrEvsxYK",
        "outputId": "048ae40e-944a-445f-daef-ffbee027a56d"
      },
      "execution_count": 127,
      "outputs": [
        {
          "output_type": "execute_result",
          "data": {
            "text/plain": [
              "[array([-5.97705263, -5.14518589]),\n",
              " array([-7.04405697, -4.99117532]),\n",
              " array([-4.06268165, -5.90923239]),\n",
              " array([-4.06268165, -5.90923239]),\n",
              " array([-5.03529378, -4.95396054]),\n",
              " array([-5.03529378, -4.95396054]),\n",
              " array([-5.03529378, -4.95396054]),\n",
              " array([-5.01904072, -5.03443866]),\n",
              " array([-4.98985218, -5.00071457]),\n",
              " array([-5.00431558, -4.99675845]),\n",
              " array([-4.99896317, -5.0003359 ]),\n",
              " array([-4.99982802, -4.99991214]),\n",
              " array([-4.99988719, -4.99993682]),\n",
              " array([-4.99991047, -4.99994231]),\n",
              " array([-4.99991826, -4.99995117]),\n",
              " array([-4.99993088, -4.99998381]),\n",
              " array([-4.99993743, -4.99997064]),\n",
              " array([-4.99993884, -4.99997757]),\n",
              " array([-4.99994304, -4.99998907]),\n",
              " array([-4.99994657, -4.99998528]),\n",
              " array([-4.99994819, -4.99998611]),\n",
              " array([-4.9999489 , -4.99999661]),\n",
              " array([-4.99995065, -4.99999141]),\n",
              " array([-4.99995157, -4.99999477]),\n",
              " array([-4.99995174, -4.99999775]),\n",
              " array([-4.99995253, -4.99999585]),\n",
              " array([-4.99995269, -4.99999654]),\n",
              " array([-4.99995291, -4.99999694]),\n",
              " array([-4.99995301, -4.99999754]),\n",
              " array([-4.99995306, -4.99999801]),\n",
              " array([-4.99995311, -4.99999787]),\n",
              " array([-4.99995312, -4.99999814]),\n",
              " array([-4.99995311, -4.99999897]),\n",
              " array([-4.99995313, -4.99999895]),\n",
              " array([-4.99995314, -4.99999922]),\n",
              " array([-4.99995314, -4.99999929]),\n",
              " array([-4.99995314, -4.99999916]),\n",
              " array([-4.99995314, -4.99999951]),\n",
              " array([-4.99995315, -4.99999936]),\n",
              " array([-4.99995315, -4.99999939])]"
            ]
          },
          "metadata": {},
          "execution_count": 127
        }
      ]
    },
    {
      "cell_type": "code",
      "source": [],
      "metadata": {
        "id": "o6DXgFtAtTMj"
      },
      "execution_count": 115,
      "outputs": []
    },
    {
      "cell_type": "markdown",
      "source": [
        "# Comparison"
      ],
      "metadata": {
        "id": "4fhregLc01sJ"
      }
    },
    {
      "cell_type": "markdown",
      "source": [
        "## Seperated"
      ],
      "metadata": {
        "id": "EvXQbWyQ5XUc"
      }
    },
    {
      "cell_type": "code",
      "source": [
        "# new\n",
        "\n",
        "newtimeList = []\n",
        "newbestList = []\n",
        "for i in range(40):\n",
        "  t1 = time.time()\n",
        "  # Define MNSV Parameters\n",
        "  N = 2                     # Number of variables\n",
        "  NS = 10                    # Number of samples\n",
        "  MAXIT = 40                # Maximum Number of iterations\n",
        "  OBJ_F = ObjF_S1           # Name of objective function\n",
        "  R = np.array([[-10, 10], [-10, 10]])  # Bounds on decision variables\n",
        "  Best = []\n",
        "  xb = []\n",
        "\n",
        "  # Initialization\n",
        "  NP = NS * (NS + 3) // 2\n",
        "  # R1 = np.tile(R[0, :], (NP, 1))\n",
        "  # R2 = np.tile(R[1, :], (NP, 1))\n",
        "  x = np.random.uniform(R[0, 0], R[0, 1], (NP, 2))\n",
        "  f = OBJ_F(x)                   #evaluation\n",
        "  for it in range(MAXIT):\n",
        "    ind = np.argsort(f)\n",
        "    x = x[ind[:NS]]                                         # choosing the best points\n",
        "\n",
        "\n",
        "    # eval = OBJ_F(x)\n",
        "    # print(eval.T)\n",
        "    a = np.power(0.3, (it/MAXIT))\n",
        "\n",
        "    z = a*np.cov(x.T) * np.eye(N)\n",
        "    # z = a*np.cov(x.T)* np.eye(2)\n",
        "    for i, j in zip(range(NS), np.linspace(0.5, 1, NS)):\n",
        "      x = np.append(x, np.random.multivariate_normal(x[i], j*z, (NS-i)), axis=0)  # appending new points\n",
        "    x = np.minimum(np.maximum(x, R[:,0]), R[:,1])     # making sure we're in right bounderies\n",
        "    f = OBJ_F(x)                     #evaluation\n",
        "    xb.append(x[np.argmin(f)])  #save the best\n",
        "    Best.append(np.min(f))\n",
        "    #plot\n",
        "  t2 = time.time()\n",
        "  newtimeList.append(t2-t1)\n",
        "  newbestList.append(x[np.argmin(f)])\n",
        "\n",
        "\n",
        "print(np.array(newtimeList).T)\n",
        "print(np.array(newbestList).T)"
      ],
      "metadata": {
        "colab": {
          "base_uri": "https://localhost:8080/"
        },
        "id": "oOtHYy4IxKCC",
        "outputId": "d9578906-bdc8-4e0f-92f3-23f26956b600"
      },
      "execution_count": 190,
      "outputs": [
        {
          "output_type": "stream",
          "name": "stdout",
          "text": [
            "[0.17265439 0.08303499 0.1072433  0.12919569 0.15217018 0.21729302\n",
            " 0.2160151  0.06985307 0.07414174 0.06924081 0.06769848 0.07199335\n",
            " 0.0840528  0.07859516 0.08207941 0.07519984 0.07644343 0.0798974\n",
            " 0.07761264 0.08920288 0.08036566 0.08422112 0.08532858 0.09270835\n",
            " 0.05881095 0.05089188 0.04489708 0.04550052 0.04744482 0.0439713\n",
            " 0.04434657 0.05121446 0.05122137 0.0448916  0.04819679 0.04889226\n",
            " 0.05874014 0.04442763 0.04893255 0.0446701 ]\n",
            "[[-5.         -5.         -5.         -5.         -5.         -5.\n",
            "  -5.         -5.         -5.         -5.99495864 -5.         -5.\n",
            "  -5.         -5.         -5.         -4.00504136 -5.         -5.\n",
            "  -4.99999977 -5.         -5.         -5.         -4.00504136 -5.\n",
            "  -5.         -5.         -5.         -5.         -5.         -5.\n",
            "  -5.         -5.         -5.00026818 -5.         -5.         -5.\n",
            "  -5.         -5.         -5.         -5.00000009]\n",
            " [-5.         -5.         -5.         -5.         -5.         -5.\n",
            "  -5.         -5.         -5.         -5.         -5.         -5.\n",
            "  -5.         -5.         -5.         -5.         -5.         -5.\n",
            "  -4.99980779 -5.         -5.         -5.         -5.         -5.\n",
            "  -5.         -5.         -5.         -5.         -5.         -5.\n",
            "  -5.         -5.         -4.99788422 -5.         -5.         -5.\n",
            "  -5.99495864 -5.         -5.         -4.99999989]]\n"
          ]
        }
      ]
    },
    {
      "cell_type": "code",
      "source": [
        "newbestList"
      ],
      "metadata": {
        "colab": {
          "base_uri": "https://localhost:8080/"
        },
        "id": "e_ww1RJu1x55",
        "outputId": "ca1cbb06-c444-4557-eefe-651dd03c2bc3"
      },
      "execution_count": 171,
      "outputs": [
        {
          "output_type": "execute_result",
          "data": {
            "text/plain": [
              "[array([-5., -5.]),\n",
              " array([-5., -5.]),\n",
              " array([-4.99371312, -4.9890556 ]),\n",
              " array([-5., -5.]),\n",
              " array([-5.        , -4.00504136]),\n",
              " array([-5., -5.]),\n",
              " array([-5.0005729 , -4.99377011]),\n",
              " array([-5.        , -5.99495864]),\n",
              " array([-5.        , -5.99495864]),\n",
              " array([-4.99645928, -4.00685361])]"
            ]
          },
          "metadata": {},
          "execution_count": 171
        }
      ]
    },
    {
      "cell_type": "code",
      "source": [
        "# old\n",
        "oldtimeList = []\n",
        "oldbestList = []\n",
        "for i in range(40):\n",
        "  t1 = time.time()\n",
        "  # Define MNSV Parameters\n",
        "  N = 2                     # Number of variables\n",
        "  NS = 10                    # Number of samples\n",
        "  MAXIT = 40                # Maximum Number of iterations\n",
        "  OBJ_F = ObjF_S1           # Name of objective function\n",
        "  R = np.array([[-10, 10], [-10, 10]])  # Bounds on decision variables\n",
        "  Best = []\n",
        "  xb = []\n",
        "\n",
        "  # Initialization\n",
        "  NP = NS * (NS + 3) // 2\n",
        "  # R1 = np.tile(R[0, :], (NP, 1))\n",
        "  # R2 = np.tile(R[1, :], (NP, 1))\n",
        "  x = np.random.uniform(R[0, 0], R[0, 1], (NP, 2))\n",
        "  f = OBJ_F(x)                   #evaluation\n",
        "  for it in range(MAXIT):\n",
        "    ind = np.argsort(f)\n",
        "    x = x[ind[:NS]]                                         # choosing the best points\n",
        "\n",
        "\n",
        "    # eval = OBJ_F(x)\n",
        "    # print(eval.T)\n",
        "    a = np.power(0.3, (it/MAXIT))\n",
        "\n",
        "    z = a*np.cov(x.T) * np.eye(N)\n",
        "    # z = a*np.cov(x.T)* np.eye(2)\n",
        "    for i in range(NS):\n",
        "      x = np.append(x, np.random.multivariate_normal(x[i], z, (NS-i)), axis=0)  # appending new points\n",
        "    x = np.minimum(np.maximum(x, R[:,0]), R[:,1])     # making sure we're in right bounderies\n",
        "    f = OBJ_F(x)                     #evaluation\n",
        "    xb.append(x[np.argmin(f)])  #save the best\n",
        "    Best.append(np.min(f))\n",
        "    #plot\n",
        "  t2 = time.time()\n",
        "  oldtimeList.append(t2-t1)\n",
        "  oldbestList.append(x[np.argmin(f)])\n",
        "\n",
        "\n",
        "print(np.array(oldtimeList).T)\n",
        "print(np.array(oldbestList).T)"
      ],
      "metadata": {
        "colab": {
          "base_uri": "https://localhost:8080/"
        },
        "id": "TEWTADqk2v4-",
        "outputId": "c6cad13c-ba54-4bb8-f775-9a2adc117297"
      },
      "execution_count": 191,
      "outputs": [
        {
          "output_type": "stream",
          "name": "stdout",
          "text": [
            "[0.09214258 0.08664227 0.15734291 0.21225953 0.17691183 0.215662\n",
            " 0.20729423 0.209795   0.13481855 0.18655896 0.18032765 0.10648084\n",
            " 0.07723999 0.08799291 0.07605457 0.07283425 0.07602954 0.06754208\n",
            " 0.07517886 0.07612324 0.07431293 0.07443762 0.07989025 0.06257749\n",
            " 0.05497217 0.04081726 0.0428133  0.04418945 0.04476619 0.04477453\n",
            " 0.05678606 0.04102921 0.04131222 0.04388905 0.04159713 0.03926516\n",
            " 0.03968692 0.04014039 0.04482102 0.04468608]\n",
            "[[-5.         -5.         -5.         -5.         -5.         -5.01056006\n",
            "  -5.         -5.00003219 -5.         -5.01601974 -5.         -5.\n",
            "  -5.         -5.         -5.         -5.         -5.         -5.\n",
            "  -5.         -4.99999988 -5.         -5.         -4.00504137 -5.\n",
            "  -4.99999952 -5.         -4.99999934 -5.         -5.         -5.\n",
            "  -5.99495864 -5.         -5.         -5.         -5.         -5.\n",
            "  -5.00000163 -5.         -5.         -5.        ]\n",
            " [-5.         -5.         -5.00000001 -5.         -5.         -5.99604729\n",
            "  -5.         -4.99998601 -5.         -5.00319611 -5.         -5.\n",
            "  -5.         -5.         -5.         -5.         -5.         -5.\n",
            "  -5.         -4.99999999 -5.         -5.         -5.         -5.00000001\n",
            "  -5.00000118 -5.         -4.99999968 -5.         -5.         -5.\n",
            "  -5.         -5.         -5.         -5.         -5.         -5.\n",
            "  -5.0000031  -5.99495864 -5.         -5.        ]]\n"
          ]
        }
      ]
    },
    {
      "cell_type": "code",
      "source": [
        "oldbestList"
      ],
      "metadata": {
        "colab": {
          "base_uri": "https://localhost:8080/"
        },
        "id": "gtQNjBD03Ut6",
        "outputId": "1923900c-d691-48b4-f324-f87d99f22587"
      },
      "execution_count": 192,
      "outputs": [
        {
          "output_type": "execute_result",
          "data": {
            "text/plain": [
              "[array([-5., -5.]),\n",
              " array([-5., -5.]),\n",
              " array([-5.        , -5.00000001]),\n",
              " array([-5., -5.]),\n",
              " array([-5., -5.]),\n",
              " array([-5.01056006, -5.99604729]),\n",
              " array([-5., -5.]),\n",
              " array([-5.00003219, -4.99998601]),\n",
              " array([-5., -5.]),\n",
              " array([-5.01601974, -5.00319611]),\n",
              " array([-5., -5.]),\n",
              " array([-5., -5.]),\n",
              " array([-5., -5.]),\n",
              " array([-5., -5.]),\n",
              " array([-5., -5.]),\n",
              " array([-5., -5.]),\n",
              " array([-5., -5.]),\n",
              " array([-5., -5.]),\n",
              " array([-5., -5.]),\n",
              " array([-4.99999988, -4.99999999]),\n",
              " array([-5., -5.]),\n",
              " array([-5., -5.]),\n",
              " array([-4.00504137, -5.        ]),\n",
              " array([-5.        , -5.00000001]),\n",
              " array([-4.99999952, -5.00000118]),\n",
              " array([-5., -5.]),\n",
              " array([-4.99999934, -4.99999968]),\n",
              " array([-5., -5.]),\n",
              " array([-5., -5.]),\n",
              " array([-5., -5.]),\n",
              " array([-5.99495864, -5.        ]),\n",
              " array([-5., -5.]),\n",
              " array([-5., -5.]),\n",
              " array([-5., -5.]),\n",
              " array([-5., -5.]),\n",
              " array([-5., -5.]),\n",
              " array([-5.00000163, -5.0000031 ]),\n",
              " array([-5.        , -5.99495864]),\n",
              " array([-5., -5.]),\n",
              " array([-5., -5.])]"
            ]
          },
          "metadata": {},
          "execution_count": 192
        }
      ]
    },
    {
      "cell_type": "code",
      "source": [
        "newbestList"
      ],
      "metadata": {
        "colab": {
          "base_uri": "https://localhost:8080/"
        },
        "id": "_eXlNTic4OTa",
        "outputId": "c876c3de-baec-4701-cc96-3e1f641f398c"
      },
      "execution_count": 193,
      "outputs": [
        {
          "output_type": "execute_result",
          "data": {
            "text/plain": [
              "[array([-5., -5.]),\n",
              " array([-5., -5.]),\n",
              " array([-5., -5.]),\n",
              " array([-5., -5.]),\n",
              " array([-5., -5.]),\n",
              " array([-5., -5.]),\n",
              " array([-5., -5.]),\n",
              " array([-5., -5.]),\n",
              " array([-5., -5.]),\n",
              " array([-5.99495864, -5.        ]),\n",
              " array([-5., -5.]),\n",
              " array([-5., -5.]),\n",
              " array([-5., -5.]),\n",
              " array([-5., -5.]),\n",
              " array([-5., -5.]),\n",
              " array([-4.00504136, -5.        ]),\n",
              " array([-5., -5.]),\n",
              " array([-5., -5.]),\n",
              " array([-4.99999977, -4.99980779]),\n",
              " array([-5., -5.]),\n",
              " array([-5., -5.]),\n",
              " array([-5., -5.]),\n",
              " array([-4.00504136, -5.        ]),\n",
              " array([-5., -5.]),\n",
              " array([-5., -5.]),\n",
              " array([-5., -5.]),\n",
              " array([-5., -5.]),\n",
              " array([-5., -5.]),\n",
              " array([-5., -5.]),\n",
              " array([-5., -5.]),\n",
              " array([-5., -5.]),\n",
              " array([-5., -5.]),\n",
              " array([-5.00026818, -4.99788422]),\n",
              " array([-5., -5.]),\n",
              " array([-5., -5.]),\n",
              " array([-5., -5.]),\n",
              " array([-5.        , -5.99495864]),\n",
              " array([-5., -5.]),\n",
              " array([-5., -5.]),\n",
              " array([-5.00000009, -4.99999989])]"
            ]
          },
          "metadata": {},
          "execution_count": 193
        }
      ]
    },
    {
      "cell_type": "code",
      "source": [
        "np.mean(oldtimeList)"
      ],
      "metadata": {
        "colab": {
          "base_uri": "https://localhost:8080/"
        },
        "id": "nXWCt1ib4Qhj",
        "outputId": "a004f199-d9b6-4326-b4fb-282b5b29f6e5"
      },
      "execution_count": 194,
      "outputs": [
        {
          "output_type": "execute_result",
          "data": {
            "text/plain": [
              "0.08929990530014038"
            ]
          },
          "metadata": {},
          "execution_count": 194
        }
      ]
    },
    {
      "cell_type": "code",
      "source": [
        "np.mean(newtimeList)"
      ],
      "metadata": {
        "colab": {
          "base_uri": "https://localhost:8080/"
        },
        "id": "ozsq1fXL40HS",
        "outputId": "8c6e2431-9daa-422e-dc40-6cb090e100ee"
      },
      "execution_count": 195,
      "outputs": [
        {
          "output_type": "execute_result",
          "data": {
            "text/plain": [
              "0.0798322856426239"
            ]
          },
          "metadata": {},
          "execution_count": 195
        }
      ]
    },
    {
      "cell_type": "markdown",
      "source": [
        "## Together"
      ],
      "metadata": {
        "id": "l8Zs5eSe5b1z"
      }
    },
    {
      "cell_type": "code",
      "source": [
        "NuIt = int(input(\"enter the number of iterations\"))\n",
        "\n",
        "\n",
        "# new\n",
        "\n",
        "newtimeList = []\n",
        "newbestList = []\n",
        "for i in range(NuIt):\n",
        "  t1 = time.time()\n",
        "  # Define MNSV Parameters\n",
        "  N = 2                     # Number of variables\n",
        "  NS = 10                    # Number of samples\n",
        "  MAXIT = 40                # Maximum Number of iterations\n",
        "  OBJ_F = ObjF_S1           # Name of objective function\n",
        "  R = np.array([[-10, 10], [-10, 10]])  # Bounds on decision variables\n",
        "  Best = []\n",
        "  xb = []\n",
        "\n",
        "  # Initialization\n",
        "  NP = NS * (NS + 3) // 2\n",
        "  # R1 = np.tile(R[0, :], (NP, 1))\n",
        "  # R2 = np.tile(R[1, :], (NP, 1))\n",
        "  x = np.random.uniform(R[0, 0], R[0, 1], (NP, 2))\n",
        "  f = OBJ_F(x)                   #evaluation\n",
        "  for it in range(MAXIT):\n",
        "    ind = np.argsort(f)\n",
        "    x = x[ind[:NS]]                                         # choosing the best points\n",
        "\n",
        "\n",
        "    # eval = OBJ_F(x)\n",
        "    # print(eval.T)\n",
        "    a = np.power(0.3, (it/MAXIT))\n",
        "\n",
        "    z = a*np.cov(x.T) * np.eye(N)\n",
        "    # z = a*np.cov(x.T)* np.eye(2)\n",
        "    for i, j in zip(range(NS), np.linspace(0.5, 1, NS)):\n",
        "      x = np.append(x, np.random.multivariate_normal(x[i], j*z, (NS-i)), axis=0)  # appending new points\n",
        "    x = np.minimum(np.maximum(x, R[:,0]), R[:,1])     # making sure we're in right bounderies\n",
        "    f = OBJ_F(x)                     #evaluation\n",
        "    xb.append(x[np.argmin(f)])  #save the best\n",
        "    Best.append(np.min(f))\n",
        "    #plot\n",
        "  t2 = time.time()\n",
        "  newtimeList.append(t2-t1)\n",
        "  newbestList.append(x[np.argmin(f)])\n",
        "\n",
        "\n",
        "print(np.array(newtimeList).T)\n",
        "print(np.array(newbestList).T)\n",
        "\n",
        "\n",
        "# old\n",
        "oldtimeList = []\n",
        "oldbestList = []\n",
        "for i in range(NuIt):\n",
        "  t1 = time.time()\n",
        "  # Define MNSV Parameters\n",
        "  N = 2                     # Number of variables\n",
        "  NS = 10                    # Number of samples\n",
        "  MAXIT = 40                # Maximum Number of iterations\n",
        "  OBJ_F = ObjF_S1           # Name of objective function\n",
        "  R = np.array([[-10, 10], [-10, 10]])  # Bounds on decision variables\n",
        "  Best = []\n",
        "  xb = []\n",
        "\n",
        "  # Initialization\n",
        "  NP = NS * (NS + 3) // 2\n",
        "  # R1 = np.tile(R[0, :], (NP, 1))\n",
        "  # R2 = np.tile(R[1, :], (NP, 1))\n",
        "  x = np.random.uniform(R[0, 0], R[0, 1], (NP, 2))\n",
        "  f = OBJ_F(x)                   #evaluation\n",
        "  for it in range(MAXIT):\n",
        "    ind = np.argsort(f)\n",
        "    x = x[ind[:NS]]                                         # choosing the best points\n",
        "\n",
        "\n",
        "    # eval = OBJ_F(x)\n",
        "    # print(eval.T)\n",
        "    a = np.power(0.3, (it/MAXIT))\n",
        "\n",
        "    z = a*np.cov(x.T) * np.eye(N)\n",
        "    # z = a*np.cov(x.T)* np.eye(2)\n",
        "    for i in range(NS):\n",
        "      x = np.append(x, np.random.multivariate_normal(x[i], z, (NS-i)), axis=0)  # appending new points\n",
        "    x = np.minimum(np.maximum(x, R[:,0]), R[:,1])     # making sure we're in right bounderies\n",
        "    f = OBJ_F(x)                     #evaluation\n",
        "    xb.append(x[np.argmin(f)])  #save the best\n",
        "    Best.append(np.min(f))\n",
        "    #plot\n",
        "  t2 = time.time()\n",
        "  oldtimeList.append(t2-t1)\n",
        "  oldbestList.append(x[np.argmin(f)])\n",
        "\n",
        "\n",
        "print(np.array(oldtimeList).T)\n",
        "print(np.array(oldbestList).T)\n",
        "print(\"******************************************\")\n",
        "print(\"new time\")\n",
        "print(np.mean(newtimeList))\n",
        "print(\"old time\")\n",
        "print(np.mean(oldtimeList))\n",
        "\n"
      ],
      "metadata": {
        "colab": {
          "base_uri": "https://localhost:8080/"
        },
        "id": "kxfCBldp42vB",
        "outputId": "70e8a2e5-4f82-460c-89d2-9bde08fbc01a"
      },
      "execution_count": 200,
      "outputs": [
        {
          "output_type": "stream",
          "name": "stdout",
          "text": [
            "enter the number of iterations100\n",
            "[0.06099224 0.04802656 0.04880214 0.04527116 0.04934525 0.04641175\n",
            " 0.04887366 0.04980969 0.04456758 0.06978846 0.04829741 0.05989766\n",
            " 0.04679775 0.04761672 0.04869342 0.0468905  0.05393648 0.0804882\n",
            " 0.09773922 0.08250523 0.08172178 0.08264232 0.08346486 0.07157731\n",
            " 0.0721457  0.07262039 0.06630778 0.06868958 0.07278442 0.07114506\n",
            " 0.07188845 0.06815624 0.0715549  0.06756902 0.07427692 0.08414364\n",
            " 0.08080864 0.07548809 0.07440305 0.08386469 0.08098936 0.07552814\n",
            " 0.08004284 0.07954621 0.08243561 0.08794546 0.0813365  0.05115128\n",
            " 0.04862428 0.04657269 0.04679942 0.05977654 0.05503011 0.05666423\n",
            " 0.05156803 0.06934905 0.05268025 0.05273843 0.04733729 0.04795861\n",
            " 0.05084801 0.06754041 0.06086969 0.05264878 0.051615   0.05162764\n",
            " 0.05451775 0.05274892 0.0513134  0.05030298 0.05347848 0.04671264\n",
            " 0.04598618 0.04631019 0.0564425  0.04983187 0.0459125  0.04713655\n",
            " 0.04658103 0.05079341 0.0499897  0.0494175  0.04833245 0.04535699\n",
            " 0.0454433  0.04477549 0.04417777 0.04845572 0.04439282 0.05126715\n",
            " 0.04380178 0.04489803 0.04840994 0.04859757 0.05505586 0.04795671\n",
            " 0.05876493 0.0504756  0.05178118 0.04844856]\n",
            "[[-5.00037286 -5.         -5.         -5.         -5.         -5.99495864\n",
            "  -5.         -5.         -4.0050393  -5.         -5.         -5.\n",
            "  -6.0120936  -5.         -5.99495864 -5.         -5.         -5.\n",
            "  -5.         -5.         -5.         -5.         -5.00189283 -5.00000002\n",
            "  -5.         -5.         -5.         -5.         -5.         -5.\n",
            "  -5.         -5.99937378 -5.         -5.         -5.         -5.\n",
            "  -4.00504136 -5.         -5.         -5.         -5.         -5.\n",
            "  -5.         -5.99495864 -5.         -5.         -5.         -5.\n",
            "  -5.         -5.         -5.         -5.         -5.         -5.\n",
            "  -4.99999998 -5.         -5.         -5.         -5.99384165 -5.\n",
            "  -5.         -5.         -5.         -5.         -5.         -5.\n",
            "  -5.         -5.         -5.         -5.         -5.         -5.\n",
            "  -5.         -5.00013127 -5.         -4.99974681 -4.99493784 -5.\n",
            "  -5.         -5.         -5.         -5.         -5.         -5.\n",
            "  -5.         -5.         -5.         -5.         -5.         -5.\n",
            "  -5.         -5.         -5.         -5.         -4.99999979 -5.00001346\n",
            "  -5.         -5.         -5.         -4.00504193]\n",
            " [-5.00036846 -4.99999999 -5.         -5.         -4.00504136 -5.\n",
            "  -5.         -5.         -5.00000202 -5.         -5.         -5.\n",
            "  -5.00597616 -5.         -5.         -5.         -4.99999983 -5.\n",
            "  -5.         -5.         -5.         -5.         -5.00406634 -5.99495868\n",
            "  -5.99495864 -5.         -5.         -5.         -5.         -5.00000018\n",
            "  -5.         -4.99900637 -5.         -5.         -4.00504136 -5.\n",
            "  -5.         -5.         -5.         -5.         -5.         -5.\n",
            "  -5.         -5.         -5.         -5.         -5.         -5.\n",
            "  -5.         -5.         -5.99495864 -5.         -5.         -5.\n",
            "  -5.         -5.         -5.         -5.         -4.99737262 -5.\n",
            "  -5.         -5.         -5.         -5.         -5.         -5.\n",
            "  -5.         -5.         -5.         -5.         -5.         -5.\n",
            "  -5.         -4.99892549 -5.         -5.00000176 -5.00011537 -5.\n",
            "  -5.         -5.         -4.00504136 -5.         -5.99495864 -5.\n",
            "  -5.         -5.99495864 -5.         -5.         -5.         -5.\n",
            "  -5.         -5.         -5.         -5.         -4.99999956 -5.00019521\n",
            "  -5.         -5.         -5.00000014 -5.00000489]]\n",
            "[0.04646564 0.04744864 0.04687405 0.04616189 0.0570488  0.04034305\n",
            " 0.04131961 0.04663897 0.04153466 0.04296041 0.05020976 0.04477763\n",
            " 0.04325962 0.04657078 0.04422355 0.04446626 0.04390478 0.04086494\n",
            " 0.06193423 0.04842138 0.04028273 0.04738283 0.0460093  0.04834676\n",
            " 0.04823661 0.04635119 0.04238153 0.0446856  0.04137707 0.04391742\n",
            " 0.04635167 0.04252863 0.04387331 0.04028344 0.04045701 0.04091144\n",
            " 0.0420475  0.04432154 0.04393029 0.04174709 0.04368567 0.05504656\n",
            " 0.04351902 0.04401255 0.05557013 0.04490638 0.04213357 0.04636335\n",
            " 0.0449419  0.04281044 0.04387045 0.04524302 0.04541826 0.04386306\n",
            " 0.04573703 0.04464483 0.0404036  0.04733825 0.04752016 0.04356623\n",
            " 0.04093647 0.04054928 0.04128361 0.04336524 0.0629847  0.04435277\n",
            " 0.04188061 0.04242897 0.04239941 0.0408287  0.0435524  0.04134226\n",
            " 0.03995895 0.03985214 0.04072881 0.04351187 0.0401268  0.04754949\n",
            " 0.0410974  0.04082584 0.04065251 0.04037786 0.04254079 0.04878235\n",
            " 0.05537558 0.04805017 0.04973936 0.06673908 0.04553294 0.05101275\n",
            " 0.04451585 0.06023073 0.05335736 0.04567313 0.04683161 0.04454327\n",
            " 0.05253077 0.04806376 0.05018115 0.04749465]\n",
            "[[-3.99993193 -5.         -5.         -5.         -5.99495864 -5.\n",
            "  -5.         -5.         -5.         -5.         -5.         -5.\n",
            "  -5.         -4.00504136 -5.         -5.         -5.00000034 -5.\n",
            "  -5.         -5.         -5.         -5.         -4.99999998 -5.\n",
            "  -5.         -5.         -5.00000003 -5.         -4.99999989 -5.\n",
            "  -5.         -5.         -5.         -5.         -5.         -5.\n",
            "  -5.         -5.         -5.         -5.         -5.         -5.\n",
            "  -5.         -5.         -5.         -5.         -5.         -5.\n",
            "  -5.99134415 -5.         -5.         -5.         -5.         -5.\n",
            "  -5.         -5.         -5.         -5.         -5.         -5.\n",
            "  -5.         -5.         -5.         -5.         -5.         -5.\n",
            "  -5.         -5.         -5.         -5.         -5.         -5.\n",
            "  -5.99495864 -5.         -5.         -5.         -5.         -5.\n",
            "  -5.         -5.         -5.00000027 -5.         -5.         -5.\n",
            "  -5.         -5.         -5.         -5.         -5.         -5.\n",
            "  -5.         -4.00504168 -5.         -5.         -5.         -5.\n",
            "  -4.99999969 -5.         -4.99998924 -5.        ]\n",
            " [-4.9936727  -5.         -5.         -5.         -5.         -5.\n",
            "  -5.         -5.99495864 -5.         -5.         -5.         -5.\n",
            "  -5.         -5.         -5.         -5.         -4.99999891 -5.\n",
            "  -5.         -5.         -5.         -5.         -4.99999996 -5.\n",
            "  -5.         -5.         -5.00000002 -5.         -5.00000004 -5.\n",
            "  -5.         -5.         -5.         -5.         -5.         -5.\n",
            "  -5.         -5.99495864 -5.         -5.         -5.         -5.\n",
            "  -5.         -5.         -5.         -5.         -5.         -5.\n",
            "  -4.98136321 -5.         -5.         -5.         -5.         -5.\n",
            "  -5.         -5.         -5.         -5.         -4.99999993 -5.\n",
            "  -5.         -5.         -5.         -5.         -5.         -5.\n",
            "  -5.         -5.         -5.         -5.         -5.         -5.\n",
            "  -5.         -5.         -5.         -5.         -5.         -5.99495864\n",
            "  -5.         -5.         -5.0000058  -5.         -5.         -5.\n",
            "  -5.         -5.         -5.         -5.         -5.         -5.\n",
            "  -5.         -4.99999976 -5.         -5.         -5.         -5.\n",
            "  -4.99999986 -5.         -5.00002671 -5.        ]]\n",
            "******************************************\n",
            "new time\n",
            "0.05877095222473144\n",
            "old time\n",
            "0.04553227424621582\n"
          ]
        }
      ]
    },
    {
      "cell_type": "code",
      "source": [],
      "metadata": {
        "id": "B9Hl2Pva57xO"
      },
      "execution_count": null,
      "outputs": []
    }
  ]
}